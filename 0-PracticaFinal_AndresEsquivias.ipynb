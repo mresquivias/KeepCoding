{
 "cells": [
  {
   "cell_type": "code",
   "execution_count": 1,
   "metadata": {},
   "outputs": [
    {
     "name": "stderr",
     "output_type": "stream",
     "text": [
      "Warning message:\n",
      "\"package 'ggplot2' was built under R version 3.6.3\""
     ]
    }
   ],
   "source": [
    "library(ggplot2)\n",
    "options(repr.plot.height = 4, repr.plot.width = 6)"
   ]
  },
  {
   "cell_type": "markdown",
   "metadata": {},
   "source": [
    "Cargar los datos en un dataframe llamado: airbnb"
   ]
  },
  {
   "cell_type": "code",
   "execution_count": 2,
   "metadata": {},
   "outputs": [],
   "source": [
    "airbnb <- read.csv('data//airbnb.csv',sep = ',')"
   ]
  },
  {
   "cell_type": "markdown",
   "metadata": {},
   "source": [
    "Mostrar las primeras 6 filas del dataframe"
   ]
  },
  {
   "cell_type": "code",
   "execution_count": 3,
   "metadata": {},
   "outputs": [
    {
     "data": {
      "text/html": [
       "<table>\n",
       "<thead><tr><th scope=col>Zipcode</th><th scope=col>Neighbourhood.Cleansed</th><th scope=col>Property.Type</th><th scope=col>Room.Type</th><th scope=col>Accommodates</th><th scope=col>Bathrooms</th><th scope=col>Bedrooms</th><th scope=col>Beds</th><th scope=col>Bed.Type</th><th scope=col>Amenities</th><th scope=col>Square.Feet</th><th scope=col>Price</th><th scope=col>Review.Scores.Rating</th></tr></thead>\n",
       "<tbody>\n",
       "\t<tr><td>28004                                                                                                                                                                                                                                                                                                                                                           </td><td>Universidad                                                                                                                                                                                                                                                                                                                                                     </td><td>Apartment                                                                                                                                                                                                                                                                                                                                                       </td><td>Private room                                                                                                                                                                                                                                                                                                                                                    </td><td>2                                                                                                                                                                                                                                                                                                                                                               </td><td>2                                                                                                                                                                                                                                                                                                                                                               </td><td>1                                                                                                                                                                                                                                                                                                                                                               </td><td>1                                                                                                                                                                                                                                                                                                                                                               </td><td>Real Bed                                                                                                                                                                                                                                                                                                                                                        </td><td>TV,Wireless Internet,Kitchen,Pets allowed,Pets live on this property,Buzzer/wireless intercom,Heating,Suitable for events,Washer,First aid kit,Essentials,Lock on bedroom door,Iron                                                                                                                                                                             </td><td> NA                                                                                                                                                                                                                                                                                                                                                             </td><td>35                                                                                                                                                                                                                                                                                                                                                              </td><td> NA                                                                                                                                                                                                                                                                                                                                                             </td></tr>\n",
       "\t<tr><td>28004                                                                                                                                                                                                                                                                                                                                                           </td><td>Universidad                                                                                                                                                                                                                                                                                                                                                     </td><td>Apartment                                                                                                                                                                                                                                                                                                                                                       </td><td>Entire home/apt                                                                                                                                                                                                                                                                                                                                                 </td><td>6                                                                                                                                                                                                                                                                                                                                                               </td><td>1                                                                                                                                                                                                                                                                                                                                                               </td><td>3                                                                                                                                                                                                                                                                                                                                                               </td><td>5                                                                                                                                                                                                                                                                                                                                                               </td><td>Real Bed                                                                                                                                                                                                                                                                                                                                                        </td><td>TV,Internet,Wireless Internet,Air conditioning,Kitchen,Indoor fireplace,Heating,Family/kid friendly,Washer,Dryer,Smoke detector,Carbon monoxide detector,Essentials,Shampoo                                                                                                                                                                                     </td><td> NA                                                                                                                                                                                                                                                                                                                                                             </td><td>92                                                                                                                                                                                                                                                                                                                                                              </td><td> 96                                                                                                                                                                                                                                                                                                                                                             </td></tr>\n",
       "\t<tr><td>28004                                                                                                                                                                                                                                                                                                                                                           </td><td>Universidad                                                                                                                                                                                                                                                                                                                                                     </td><td>Apartment                                                                                                                                                                                                                                                                                                                                                       </td><td>Entire home/apt                                                                                                                                                                                                                                                                                                                                                 </td><td>3                                                                                                                                                                                                                                                                                                                                                               </td><td>1                                                                                                                                                                                                                                                                                                                                                               </td><td>2                                                                                                                                                                                                                                                                                                                                                               </td><td>2                                                                                                                                                                                                                                                                                                                                                               </td><td>Real Bed                                                                                                                                                                                                                                                                                                                                                        </td><td>TV,Internet,Wireless Internet,Air conditioning,Kitchen,Doorman,Heating,Family/kid friendly,Washer,Essentials,Shampoo,Hangers,Hair dryer,Iron,Laptop friendly workspace                                                                                                                                                                                          </td><td> NA                                                                                                                                                                                                                                                                                                                                                             </td><td>55                                                                                                                                                                                                                                                                                                                                                              </td><td> 91                                                                                                                                                                                                                                                                                                                                                             </td></tr>\n",
       "\t<tr><td>28004                                                                                                                                                                                                                                                                                                                                                           </td><td>Universidad                                                                                                                                                                                                                                                                                                                                                     </td><td>Loft                                                                                                                                                                                                                                                                                                                                                            </td><td>Entire home/apt                                                                                                                                                                                                                                                                                                                                                 </td><td>3                                                                                                                                                                                                                                                                                                                                                               </td><td>2                                                                                                                                                                                                                                                                                                                                                               </td><td>1                                                                                                                                                                                                                                                                                                                                                               </td><td>1                                                                                                                                                                                                                                                                                                                                                               </td><td>Real Bed                                                                                                                                                                                                                                                                                                                                                        </td><td>TV,Internet,Wireless Internet,Air conditioning,Kitchen,Pets allowed,Breakfast,Elevator in building,Indoor fireplace,Buzzer/wireless intercom,Heating,Washer,Essentials,Shampoo,Hangers,Hair dryer,Iron,Laptop friendly workspace,translation missing: en.hosting_amenity_49,translation missing: en.hosting_amenity_50                                          </td><td> NA                                                                                                                                                                                                                                                                                                                                                             </td><td>60                                                                                                                                                                                                                                                                                                                                                              </td><td>100                                                                                                                                                                                                                                                                                                                                                             </td></tr>\n",
       "\t<tr><td>28015                                                                                                                                                                                                                                                                                                                                                           </td><td>Universidad                                                                                                                                                                                                                                                                                                                                                     </td><td>Apartment                                                                                                                                                                                                                                                                                                                                                       </td><td>Entire home/apt                                                                                                                                                                                                                                                                                                                                                 </td><td>5                                                                                                                                                                                                                                                                                                                                                               </td><td>1                                                                                                                                                                                                                                                                                                                                                               </td><td>1                                                                                                                                                                                                                                                                                                                                                               </td><td>1                                                                                                                                                                                                                                                                                                                                                               </td><td>Real Bed                                                                                                                                                                                                                                                                                                                                                        </td><td>TV,Wireless Internet,Air conditioning,Kitchen,Smoking allowed,Pets allowed,Elevator in building,Heating,Family/kid friendly,Washer,Essentials,Iron                                                                                                                                                                                                              </td><td>538                                                                                                                                                                                                                                                                                                                                                             </td><td>75                                                                                                                                                                                                                                                                                                                                                              </td><td> 90                                                                                                                                                                                                                                                                                                                                                             </td></tr>\n",
       "\t<tr><td>28004                                                                                                                                                                                                                                                                                                                                                           </td><td>Universidad                                                                                                                                                                                                                                                                                                                                                     </td><td>Apartment                                                                                                                                                                                                                                                                                                                                                       </td><td>Entire home/apt                                                                                                                                                                                                                                                                                                                                                 </td><td>2                                                                                                                                                                                                                                                                                                                                                               </td><td>1                                                                                                                                                                                                                                                                                                                                                               </td><td>0                                                                                                                                                                                                                                                                                                                                                               </td><td>1                                                                                                                                                                                                                                                                                                                                                               </td><td>Real Bed                                                                                                                                                                                                                                                                                                                                                        </td><td>TV,Cable TV,Internet,Wireless Internet,Air conditioning,Wheelchair accessible,Kitchen,Doorman,Elevator in building,Buzzer/wireless intercom,Heating,Washer,Smoke detector,Carbon monoxide detector,First aid kit,Safety card,Fire extinguisher,Essentials,Shampoo,24-hour check-in,Hangers,Hair dryer,Iron,Laptop friendly workspace,Self Check-In,Doorman Entry</td><td> NA                                                                                                                                                                                                                                                                                                                                                             </td><td>55                                                                                                                                                                                                                                                                                                                                                              </td><td> 95                                                                                                                                                                                                                                                                                                                                                             </td></tr>\n",
       "</tbody>\n",
       "</table>\n"
      ],
      "text/latex": [
       "\\begin{tabular}{r|lllllllllllll}\n",
       " Zipcode & Neighbourhood.Cleansed & Property.Type & Room.Type & Accommodates & Bathrooms & Bedrooms & Beds & Bed.Type & Amenities & Square.Feet & Price & Review.Scores.Rating\\\\\n",
       "\\hline\n",
       "\t 28004                                                                                                                                                                                                                                                                                                                                                            & Universidad                                                                                                                                                                                                                                                                                                                                                      & Apartment                                                                                                                                                                                                                                                                                                                                                        & Private room                                                                                                                                                                                                                                                                                                                                                     & 2                                                                                                                                                                                                                                                                                                                                                                & 2                                                                                                                                                                                                                                                                                                                                                                & 1                                                                                                                                                                                                                                                                                                                                                                & 1                                                                                                                                                                                                                                                                                                                                                                & Real Bed                                                                                                                                                                                                                                                                                                                                                         & TV,Wireless Internet,Kitchen,Pets allowed,Pets live on this property,Buzzer/wireless intercom,Heating,Suitable for events,Washer,First aid kit,Essentials,Lock on bedroom door,Iron                                                                                                                                                                              &  NA                                                                                                                                                                                                                                                                                                                                                              & 35                                                                                                                                                                                                                                                                                                                                                               &  NA                                                                                                                                                                                                                                                                                                                                                             \\\\\n",
       "\t 28004                                                                                                                                                                                                                                                                                                                                                            & Universidad                                                                                                                                                                                                                                                                                                                                                      & Apartment                                                                                                                                                                                                                                                                                                                                                        & Entire home/apt                                                                                                                                                                                                                                                                                                                                                  & 6                                                                                                                                                                                                                                                                                                                                                                & 1                                                                                                                                                                                                                                                                                                                                                                & 3                                                                                                                                                                                                                                                                                                                                                                & 5                                                                                                                                                                                                                                                                                                                                                                & Real Bed                                                                                                                                                                                                                                                                                                                                                         & TV,Internet,Wireless Internet,Air conditioning,Kitchen,Indoor fireplace,Heating,Family/kid friendly,Washer,Dryer,Smoke detector,Carbon monoxide detector,Essentials,Shampoo                                                                                                                                                                                      &  NA                                                                                                                                                                                                                                                                                                                                                              & 92                                                                                                                                                                                                                                                                                                                                                               &  96                                                                                                                                                                                                                                                                                                                                                             \\\\\n",
       "\t 28004                                                                                                                                                                                                                                                                                                                                                            & Universidad                                                                                                                                                                                                                                                                                                                                                      & Apartment                                                                                                                                                                                                                                                                                                                                                        & Entire home/apt                                                                                                                                                                                                                                                                                                                                                  & 3                                                                                                                                                                                                                                                                                                                                                                & 1                                                                                                                                                                                                                                                                                                                                                                & 2                                                                                                                                                                                                                                                                                                                                                                & 2                                                                                                                                                                                                                                                                                                                                                                & Real Bed                                                                                                                                                                                                                                                                                                                                                         & TV,Internet,Wireless Internet,Air conditioning,Kitchen,Doorman,Heating,Family/kid friendly,Washer,Essentials,Shampoo,Hangers,Hair dryer,Iron,Laptop friendly workspace                                                                                                                                                                                           &  NA                                                                                                                                                                                                                                                                                                                                                              & 55                                                                                                                                                                                                                                                                                                                                                               &  91                                                                                                                                                                                                                                                                                                                                                             \\\\\n",
       "\t 28004                                                                                                                                                                                                                                                                                                                                                                    & Universidad                                                                                                                                                                                                                                                                                                                                                              & Loft                                                                                                                                                                                                                                                                                                                                                                     & Entire home/apt                                                                                                                                                                                                                                                                                                                                                          & 3                                                                                                                                                                                                                                                                                                                                                                        & 2                                                                                                                                                                                                                                                                                                                                                                        & 1                                                                                                                                                                                                                                                                                                                                                                        & 1                                                                                                                                                                                                                                                                                                                                                                        & Real Bed                                                                                                                                                                                                                                                                                                                                                                 & TV,Internet,Wireless Internet,Air conditioning,Kitchen,Pets allowed,Breakfast,Elevator in building,Indoor fireplace,Buzzer/wireless intercom,Heating,Washer,Essentials,Shampoo,Hangers,Hair dryer,Iron,Laptop friendly workspace,translation missing: en.hosting\\_amenity\\_49,translation missing: en.hosting\\_amenity\\_50                                           &  NA                                                                                                                                                                                                                                                                                                                                                                      & 60                                                                                                                                                                                                                                                                                                                                                                       & 100                                                                                                                                                                                                                                                                                                                                                                     \\\\\n",
       "\t 28015                                                                                                                                                                                                                                                                                                                                                            & Universidad                                                                                                                                                                                                                                                                                                                                                      & Apartment                                                                                                                                                                                                                                                                                                                                                        & Entire home/apt                                                                                                                                                                                                                                                                                                                                                  & 5                                                                                                                                                                                                                                                                                                                                                                & 1                                                                                                                                                                                                                                                                                                                                                                & 1                                                                                                                                                                                                                                                                                                                                                                & 1                                                                                                                                                                                                                                                                                                                                                                & Real Bed                                                                                                                                                                                                                                                                                                                                                         & TV,Wireless Internet,Air conditioning,Kitchen,Smoking allowed,Pets allowed,Elevator in building,Heating,Family/kid friendly,Washer,Essentials,Iron                                                                                                                                                                                                               & 538                                                                                                                                                                                                                                                                                                                                                              & 75                                                                                                                                                                                                                                                                                                                                                               &  90                                                                                                                                                                                                                                                                                                                                                             \\\\\n",
       "\t 28004                                                                                                                                                                                                                                                                                                                                                            & Universidad                                                                                                                                                                                                                                                                                                                                                      & Apartment                                                                                                                                                                                                                                                                                                                                                        & Entire home/apt                                                                                                                                                                                                                                                                                                                                                  & 2                                                                                                                                                                                                                                                                                                                                                                & 1                                                                                                                                                                                                                                                                                                                                                                & 0                                                                                                                                                                                                                                                                                                                                                                & 1                                                                                                                                                                                                                                                                                                                                                                & Real Bed                                                                                                                                                                                                                                                                                                                                                         & TV,Cable TV,Internet,Wireless Internet,Air conditioning,Wheelchair accessible,Kitchen,Doorman,Elevator in building,Buzzer/wireless intercom,Heating,Washer,Smoke detector,Carbon monoxide detector,First aid kit,Safety card,Fire extinguisher,Essentials,Shampoo,24-hour check-in,Hangers,Hair dryer,Iron,Laptop friendly workspace,Self Check-In,Doorman Entry &  NA                                                                                                                                                                                                                                                                                                                                                              & 55                                                                                                                                                                                                                                                                                                                                                               &  95                                                                                                                                                                                                                                                                                                                                                             \\\\\n",
       "\\end{tabular}\n"
      ],
      "text/markdown": [
       "\n",
       "| Zipcode | Neighbourhood.Cleansed | Property.Type | Room.Type | Accommodates | Bathrooms | Bedrooms | Beds | Bed.Type | Amenities | Square.Feet | Price | Review.Scores.Rating |\n",
       "|---|---|---|---|---|---|---|---|---|---|---|---|---|\n",
       "| 28004                                                                                                                                                                                                                                                                                                                                                            | Universidad                                                                                                                                                                                                                                                                                                                                                      | Apartment                                                                                                                                                                                                                                                                                                                                                        | Private room                                                                                                                                                                                                                                                                                                                                                     | 2                                                                                                                                                                                                                                                                                                                                                                | 2                                                                                                                                                                                                                                                                                                                                                                | 1                                                                                                                                                                                                                                                                                                                                                                | 1                                                                                                                                                                                                                                                                                                                                                                | Real Bed                                                                                                                                                                                                                                                                                                                                                         | TV,Wireless Internet,Kitchen,Pets allowed,Pets live on this property,Buzzer/wireless intercom,Heating,Suitable for events,Washer,First aid kit,Essentials,Lock on bedroom door,Iron                                                                                                                                                                              |  NA                                                                                                                                                                                                                                                                                                                                                              | 35                                                                                                                                                                                                                                                                                                                                                               |  NA                                                                                                                                                                                                                                                                                                                                                              |\n",
       "| 28004                                                                                                                                                                                                                                                                                                                                                            | Universidad                                                                                                                                                                                                                                                                                                                                                      | Apartment                                                                                                                                                                                                                                                                                                                                                        | Entire home/apt                                                                                                                                                                                                                                                                                                                                                  | 6                                                                                                                                                                                                                                                                                                                                                                | 1                                                                                                                                                                                                                                                                                                                                                                | 3                                                                                                                                                                                                                                                                                                                                                                | 5                                                                                                                                                                                                                                                                                                                                                                | Real Bed                                                                                                                                                                                                                                                                                                                                                         | TV,Internet,Wireless Internet,Air conditioning,Kitchen,Indoor fireplace,Heating,Family/kid friendly,Washer,Dryer,Smoke detector,Carbon monoxide detector,Essentials,Shampoo                                                                                                                                                                                      |  NA                                                                                                                                                                                                                                                                                                                                                              | 92                                                                                                                                                                                                                                                                                                                                                               |  96                                                                                                                                                                                                                                                                                                                                                              |\n",
       "| 28004                                                                                                                                                                                                                                                                                                                                                            | Universidad                                                                                                                                                                                                                                                                                                                                                      | Apartment                                                                                                                                                                                                                                                                                                                                                        | Entire home/apt                                                                                                                                                                                                                                                                                                                                                  | 3                                                                                                                                                                                                                                                                                                                                                                | 1                                                                                                                                                                                                                                                                                                                                                                | 2                                                                                                                                                                                                                                                                                                                                                                | 2                                                                                                                                                                                                                                                                                                                                                                | Real Bed                                                                                                                                                                                                                                                                                                                                                         | TV,Internet,Wireless Internet,Air conditioning,Kitchen,Doorman,Heating,Family/kid friendly,Washer,Essentials,Shampoo,Hangers,Hair dryer,Iron,Laptop friendly workspace                                                                                                                                                                                           |  NA                                                                                                                                                                                                                                                                                                                                                              | 55                                                                                                                                                                                                                                                                                                                                                               |  91                                                                                                                                                                                                                                                                                                                                                              |\n",
       "| 28004                                                                                                                                                                                                                                                                                                                                                            | Universidad                                                                                                                                                                                                                                                                                                                                                      | Loft                                                                                                                                                                                                                                                                                                                                                             | Entire home/apt                                                                                                                                                                                                                                                                                                                                                  | 3                                                                                                                                                                                                                                                                                                                                                                | 2                                                                                                                                                                                                                                                                                                                                                                | 1                                                                                                                                                                                                                                                                                                                                                                | 1                                                                                                                                                                                                                                                                                                                                                                | Real Bed                                                                                                                                                                                                                                                                                                                                                         | TV,Internet,Wireless Internet,Air conditioning,Kitchen,Pets allowed,Breakfast,Elevator in building,Indoor fireplace,Buzzer/wireless intercom,Heating,Washer,Essentials,Shampoo,Hangers,Hair dryer,Iron,Laptop friendly workspace,translation missing: en.hosting_amenity_49,translation missing: en.hosting_amenity_50                                           |  NA                                                                                                                                                                                                                                                                                                                                                              | 60                                                                                                                                                                                                                                                                                                                                                               | 100                                                                                                                                                                                                                                                                                                                                                              |\n",
       "| 28015                                                                                                                                                                                                                                                                                                                                                            | Universidad                                                                                                                                                                                                                                                                                                                                                      | Apartment                                                                                                                                                                                                                                                                                                                                                        | Entire home/apt                                                                                                                                                                                                                                                                                                                                                  | 5                                                                                                                                                                                                                                                                                                                                                                | 1                                                                                                                                                                                                                                                                                                                                                                | 1                                                                                                                                                                                                                                                                                                                                                                | 1                                                                                                                                                                                                                                                                                                                                                                | Real Bed                                                                                                                                                                                                                                                                                                                                                         | TV,Wireless Internet,Air conditioning,Kitchen,Smoking allowed,Pets allowed,Elevator in building,Heating,Family/kid friendly,Washer,Essentials,Iron                                                                                                                                                                                                               | 538                                                                                                                                                                                                                                                                                                                                                              | 75                                                                                                                                                                                                                                                                                                                                                               |  90                                                                                                                                                                                                                                                                                                                                                              |\n",
       "| 28004                                                                                                                                                                                                                                                                                                                                                            | Universidad                                                                                                                                                                                                                                                                                                                                                      | Apartment                                                                                                                                                                                                                                                                                                                                                        | Entire home/apt                                                                                                                                                                                                                                                                                                                                                  | 2                                                                                                                                                                                                                                                                                                                                                                | 1                                                                                                                                                                                                                                                                                                                                                                | 0                                                                                                                                                                                                                                                                                                                                                                | 1                                                                                                                                                                                                                                                                                                                                                                | Real Bed                                                                                                                                                                                                                                                                                                                                                         | TV,Cable TV,Internet,Wireless Internet,Air conditioning,Wheelchair accessible,Kitchen,Doorman,Elevator in building,Buzzer/wireless intercom,Heating,Washer,Smoke detector,Carbon monoxide detector,First aid kit,Safety card,Fire extinguisher,Essentials,Shampoo,24-hour check-in,Hangers,Hair dryer,Iron,Laptop friendly workspace,Self Check-In,Doorman Entry |  NA                                                                                                                                                                                                                                                                                                                                                              | 55                                                                                                                                                                                                                                                                                                                                                               |  95                                                                                                                                                                                                                                                                                                                                                              |\n",
       "\n"
      ],
      "text/plain": [
       "  Zipcode Neighbourhood.Cleansed Property.Type Room.Type       Accommodates\n",
       "1 28004   Universidad            Apartment     Private room    2           \n",
       "2 28004   Universidad            Apartment     Entire home/apt 6           \n",
       "3 28004   Universidad            Apartment     Entire home/apt 3           \n",
       "4 28004   Universidad            Loft          Entire home/apt 3           \n",
       "5 28015   Universidad            Apartment     Entire home/apt 5           \n",
       "6 28004   Universidad            Apartment     Entire home/apt 2           \n",
       "  Bathrooms Bedrooms Beds Bed.Type\n",
       "1 2         1        1    Real Bed\n",
       "2 1         3        5    Real Bed\n",
       "3 1         2        2    Real Bed\n",
       "4 2         1        1    Real Bed\n",
       "5 1         1        1    Real Bed\n",
       "6 1         0        1    Real Bed\n",
       "  Amenities                                                                                                                                                                                                                                                                                                                                                       \n",
       "1 TV,Wireless Internet,Kitchen,Pets allowed,Pets live on this property,Buzzer/wireless intercom,Heating,Suitable for events,Washer,First aid kit,Essentials,Lock on bedroom door,Iron                                                                                                                                                                             \n",
       "2 TV,Internet,Wireless Internet,Air conditioning,Kitchen,Indoor fireplace,Heating,Family/kid friendly,Washer,Dryer,Smoke detector,Carbon monoxide detector,Essentials,Shampoo                                                                                                                                                                                     \n",
       "3 TV,Internet,Wireless Internet,Air conditioning,Kitchen,Doorman,Heating,Family/kid friendly,Washer,Essentials,Shampoo,Hangers,Hair dryer,Iron,Laptop friendly workspace                                                                                                                                                                                          \n",
       "4 TV,Internet,Wireless Internet,Air conditioning,Kitchen,Pets allowed,Breakfast,Elevator in building,Indoor fireplace,Buzzer/wireless intercom,Heating,Washer,Essentials,Shampoo,Hangers,Hair dryer,Iron,Laptop friendly workspace,translation missing: en.hosting_amenity_49,translation missing: en.hosting_amenity_50                                          \n",
       "5 TV,Wireless Internet,Air conditioning,Kitchen,Smoking allowed,Pets allowed,Elevator in building,Heating,Family/kid friendly,Washer,Essentials,Iron                                                                                                                                                                                                              \n",
       "6 TV,Cable TV,Internet,Wireless Internet,Air conditioning,Wheelchair accessible,Kitchen,Doorman,Elevator in building,Buzzer/wireless intercom,Heating,Washer,Smoke detector,Carbon monoxide detector,First aid kit,Safety card,Fire extinguisher,Essentials,Shampoo,24-hour check-in,Hangers,Hair dryer,Iron,Laptop friendly workspace,Self Check-In,Doorman Entry\n",
       "  Square.Feet Price Review.Scores.Rating\n",
       "1  NA         35     NA                 \n",
       "2  NA         92     96                 \n",
       "3  NA         55     91                 \n",
       "4  NA         60    100                 \n",
       "5 538         75     90                 \n",
       "6  NA         55     95                 "
      ]
     },
     "metadata": {},
     "output_type": "display_data"
    }
   ],
   "source": [
    "head(airbnb)"
   ]
  },
  {
   "cell_type": "markdown",
   "metadata": {},
   "source": [
    "Renombrar las columnas de la siguiente forma:\n",
    "\n",
    "| Nombre original | Nuevo nombre |\n",
    "| - | - |\n",
    "| Zipcode | CodigoPostal |\n",
    "| Neighbourhood.Cleansed | Barrio |\n",
    "| Property.Type\t| TipoPropiedad |\n",
    "| Room.Type | TipoAlquiler |\n",
    "| Accommodates | MaxOcupantes |\n",
    "| Bathrooms\t| NumBanyos |\n",
    "| Bedrooms\t| NumDormitorios |\n",
    "| Beds\t|  NumCamas |\n",
    "| Bed.Type\t| TipoCama |\n",
    "| Amenities | Comodidades |\n",
    "| Square.Feet | PiesCuadrados |\n",
    "| Price\t| Precio |\n",
    "| Review.Scores.Rating | Puntuacion |"
   ]
  },
  {
   "cell_type": "code",
   "execution_count": 4,
   "metadata": {},
   "outputs": [],
   "source": [
    "newnames <- c(\"CodigoPostal\",\"Barrio\",\"TipoPropiedad\",\"TipoAlquiler\",\"MaxOcupantes\",\"NumBanyos\",\n",
    "\"NumDormitorios\",\"NumCamas\",\"TipoCama\",\"Comodidades\",\"PiesCuadrados\",\"Precio\",\"Puntuacion\")\n",
    "colnames(airbnb) <- newnames"
   ]
  },
  {
   "cell_type": "markdown",
   "metadata": {},
   "source": [
    "Crea una nueva columna llamada MetrosCuadrados a partir de la columna PiesCuadrados.\n",
    "\n",
    "Ayuda: 1 pie cuadrado son 0,092903 metros cuadrdados"
   ]
  },
  {
   "cell_type": "code",
   "execution_count": 5,
   "metadata": {},
   "outputs": [],
   "source": [
    "airbnb$MetrosCuadrados <- airbnb$PiesCuadrados * 0.092903"
   ]
  },
  {
   "cell_type": "markdown",
   "metadata": {},
   "source": [
    "Miremos el código postal. Es una variable con entradas erroneas.\n",
    "Hay valores como '', '-'  y '28' que deberían ser considerados como NA.\n",
    "Así mismo también debería ser NA todos los que no compiencen por 28, ya que estamos con códigos postales de Madrid\n",
    "\n",
    "El código postal 28002, 28004 y 28051 tienen entradas repetidas. \n",
    "Por ejemplo las entradas 28002\\n20882 deberían ir dnetro de 28002\n",
    "\n",
    "El codigo 2804 debería ser 28004, 2805 deberia ser 28005 y 2815 juncto con 2815 debería ser 28015\n",
    "\n",
    "Limpia los datos de la columna Codigo Postal"
   ]
  },
  {
   "cell_type": "code",
   "execution_count": 6,
   "metadata": {},
   "outputs": [],
   "source": [
    "airbnb$CodigoPostal[airbnb$CodigoPostal == \"\"] <- NA\n",
    "airbnb$CodigoPostal[airbnb$CodigoPostal == \"-\"] <- NA\n",
    "airbnb$CodigoPostal[airbnb$CodigoPostal == \"28\"] <- NA\n",
    "airbnb$CodigoPostal[!grepl(\"28\", airbnb$CodigoPostal)] <- NA\n",
    "airbnb$CodigoPostal[airbnb$CodigoPostal == \"2804\"] <- \"28004\"\n",
    "airbnb$CodigoPostal[airbnb$CodigoPostal == \"2805\"] <- \"28005\"\n",
    "airbnb$CodigoPostal[airbnb$CodigoPostal == \"2815\"] <- \"28015\"\n",
    "airbnb$CodigoPostal[airbnb$CodigoPostal == \"280013\"] <- \"28013\"\n",
    "airbnb$CodigoPostal[airbnb$CodigoPostal == \"28002\\n28002\"] <- \"28002\"\n",
    "airbnb$CodigoPostal[airbnb$CodigoPostal == \"28051\\n28051\"] <- \"28051\"\n",
    "airbnb$CodigoPostal[airbnb$CodigoPostal == \"Madrid 28004\"] <- \"28004\""
   ]
  },
  {
   "cell_type": "markdown",
   "metadata": {},
   "source": [
    "Una vez limpios los datos ¿Cuales son los códigos postales que tenemos? "
   ]
  },
  {
   "cell_type": "code",
   "execution_count": 7,
   "metadata": {},
   "outputs": [
    {
     "data": {
      "text/html": [
       "<ol class=list-inline>\n",
       "\t<li>'28001'</li>\n",
       "\t<li>'28002'</li>\n",
       "\t<li>'28003'</li>\n",
       "\t<li>'28004'</li>\n",
       "\t<li>'28005'</li>\n",
       "\t<li>'28006'</li>\n",
       "\t<li>'28007'</li>\n",
       "\t<li>'28008'</li>\n",
       "\t<li>'28009'</li>\n",
       "\t<li>'28010'</li>\n",
       "\t<li>'28011'</li>\n",
       "\t<li>'28012'</li>\n",
       "\t<li>'28013'</li>\n",
       "\t<li>'28014'</li>\n",
       "\t<li>'28015'</li>\n",
       "\t<li>'28016'</li>\n",
       "\t<li>'28017'</li>\n",
       "\t<li>'28018'</li>\n",
       "\t<li>'28019'</li>\n",
       "\t<li>'28020'</li>\n",
       "\t<li>'28021'</li>\n",
       "\t<li>'28022'</li>\n",
       "\t<li>'28023'</li>\n",
       "\t<li>'28024'</li>\n",
       "\t<li>'28025'</li>\n",
       "\t<li>'28026'</li>\n",
       "\t<li>'28027'</li>\n",
       "\t<li>'28028'</li>\n",
       "\t<li>'28029'</li>\n",
       "\t<li>'28030'</li>\n",
       "\t<li>'28031'</li>\n",
       "\t<li>'28032'</li>\n",
       "\t<li>'28033'</li>\n",
       "\t<li>'28034'</li>\n",
       "\t<li>'28035'</li>\n",
       "\t<li>'28036'</li>\n",
       "\t<li>'28037'</li>\n",
       "\t<li>'28038'</li>\n",
       "\t<li>'28039'</li>\n",
       "\t<li>'28040'</li>\n",
       "\t<li>'28041'</li>\n",
       "\t<li>'28042'</li>\n",
       "\t<li>'28043'</li>\n",
       "\t<li>'28044'</li>\n",
       "\t<li>'28045'</li>\n",
       "\t<li>'28046'</li>\n",
       "\t<li>'28047'</li>\n",
       "\t<li>'28048'</li>\n",
       "\t<li>'28049'</li>\n",
       "\t<li>'28050'</li>\n",
       "\t<li>'28051'</li>\n",
       "\t<li>'28052'</li>\n",
       "\t<li>'28053'</li>\n",
       "\t<li>'28054'</li>\n",
       "\t<li>'28055'</li>\n",
       "\t<li>'28056'</li>\n",
       "\t<li>'28058'</li>\n",
       "\t<li>'28060'</li>\n",
       "\t<li>'28094'</li>\n",
       "\t<li>'28105'</li>\n",
       "\t<li>'28850'</li>\n",
       "</ol>\n"
      ],
      "text/latex": [
       "\\begin{enumerate*}\n",
       "\\item '28001'\n",
       "\\item '28002'\n",
       "\\item '28003'\n",
       "\\item '28004'\n",
       "\\item '28005'\n",
       "\\item '28006'\n",
       "\\item '28007'\n",
       "\\item '28008'\n",
       "\\item '28009'\n",
       "\\item '28010'\n",
       "\\item '28011'\n",
       "\\item '28012'\n",
       "\\item '28013'\n",
       "\\item '28014'\n",
       "\\item '28015'\n",
       "\\item '28016'\n",
       "\\item '28017'\n",
       "\\item '28018'\n",
       "\\item '28019'\n",
       "\\item '28020'\n",
       "\\item '28021'\n",
       "\\item '28022'\n",
       "\\item '28023'\n",
       "\\item '28024'\n",
       "\\item '28025'\n",
       "\\item '28026'\n",
       "\\item '28027'\n",
       "\\item '28028'\n",
       "\\item '28029'\n",
       "\\item '28030'\n",
       "\\item '28031'\n",
       "\\item '28032'\n",
       "\\item '28033'\n",
       "\\item '28034'\n",
       "\\item '28035'\n",
       "\\item '28036'\n",
       "\\item '28037'\n",
       "\\item '28038'\n",
       "\\item '28039'\n",
       "\\item '28040'\n",
       "\\item '28041'\n",
       "\\item '28042'\n",
       "\\item '28043'\n",
       "\\item '28044'\n",
       "\\item '28045'\n",
       "\\item '28046'\n",
       "\\item '28047'\n",
       "\\item '28048'\n",
       "\\item '28049'\n",
       "\\item '28050'\n",
       "\\item '28051'\n",
       "\\item '28052'\n",
       "\\item '28053'\n",
       "\\item '28054'\n",
       "\\item '28055'\n",
       "\\item '28056'\n",
       "\\item '28058'\n",
       "\\item '28060'\n",
       "\\item '28094'\n",
       "\\item '28105'\n",
       "\\item '28850'\n",
       "\\end{enumerate*}\n"
      ],
      "text/markdown": [
       "1. '28001'\n",
       "2. '28002'\n",
       "3. '28003'\n",
       "4. '28004'\n",
       "5. '28005'\n",
       "6. '28006'\n",
       "7. '28007'\n",
       "8. '28008'\n",
       "9. '28009'\n",
       "10. '28010'\n",
       "11. '28011'\n",
       "12. '28012'\n",
       "13. '28013'\n",
       "14. '28014'\n",
       "15. '28015'\n",
       "16. '28016'\n",
       "17. '28017'\n",
       "18. '28018'\n",
       "19. '28019'\n",
       "20. '28020'\n",
       "21. '28021'\n",
       "22. '28022'\n",
       "23. '28023'\n",
       "24. '28024'\n",
       "25. '28025'\n",
       "26. '28026'\n",
       "27. '28027'\n",
       "28. '28028'\n",
       "29. '28029'\n",
       "30. '28030'\n",
       "31. '28031'\n",
       "32. '28032'\n",
       "33. '28033'\n",
       "34. '28034'\n",
       "35. '28035'\n",
       "36. '28036'\n",
       "37. '28037'\n",
       "38. '28038'\n",
       "39. '28039'\n",
       "40. '28040'\n",
       "41. '28041'\n",
       "42. '28042'\n",
       "43. '28043'\n",
       "44. '28044'\n",
       "45. '28045'\n",
       "46. '28046'\n",
       "47. '28047'\n",
       "48. '28048'\n",
       "49. '28049'\n",
       "50. '28050'\n",
       "51. '28051'\n",
       "52. '28052'\n",
       "53. '28053'\n",
       "54. '28054'\n",
       "55. '28055'\n",
       "56. '28056'\n",
       "57. '28058'\n",
       "58. '28060'\n",
       "59. '28094'\n",
       "60. '28105'\n",
       "61. '28850'\n",
       "\n",
       "\n"
      ],
      "text/plain": [
       " [1] \"28001\" \"28002\" \"28003\" \"28004\" \"28005\" \"28006\" \"28007\" \"28008\" \"28009\"\n",
       "[10] \"28010\" \"28011\" \"28012\" \"28013\" \"28014\" \"28015\" \"28016\" \"28017\" \"28018\"\n",
       "[19] \"28019\" \"28020\" \"28021\" \"28022\" \"28023\" \"28024\" \"28025\" \"28026\" \"28027\"\n",
       "[28] \"28028\" \"28029\" \"28030\" \"28031\" \"28032\" \"28033\" \"28034\" \"28035\" \"28036\"\n",
       "[37] \"28037\" \"28038\" \"28039\" \"28040\" \"28041\" \"28042\" \"28043\" \"28044\" \"28045\"\n",
       "[46] \"28046\" \"28047\" \"28048\" \"28049\" \"28050\" \"28051\" \"28052\" \"28053\" \"28054\"\n",
       "[55] \"28055\" \"28056\" \"28058\" \"28060\" \"28094\" \"28105\" \"28850\""
      ]
     },
     "metadata": {},
     "output_type": "display_data"
    }
   ],
   "source": [
    "levels(droplevels(airbnb$CodigoPostal))"
   ]
  },
  {
   "cell_type": "markdown",
   "metadata": {},
   "source": [
    "¿Cuales son los 5 códigos postales con más entradas? ¿Y con menos? ¿Cuantas entradas tienen?"
   ]
  },
  {
   "cell_type": "code",
   "execution_count": 8,
   "metadata": {},
   "outputs": [
    {
     "data": {
      "text/plain": [
       "\n",
       "28012 28004 28005 28013 28014 \n",
       " 2060  1796  1195  1020   630 "
      ]
     },
     "metadata": {},
     "output_type": "display_data"
    },
    {
     "data": {
      "text/plain": [
       "\n",
       "28058 28060 28094 28105 28850 \n",
       "    1     1     1     1     1 "
      ]
     },
     "metadata": {},
     "output_type": "display_data"
    }
   ],
   "source": [
    "head(sort(table(airbnb$CodigoPostal), decreasing = TRUE), 5)\n",
    "tail(sort(table(droplevels(airbnb$CodigoPostal)), decreasing = TRUE), 5)"
   ]
  },
  {
   "cell_type": "markdown",
   "metadata": {},
   "source": [
    "¿Cuales son los barrios que hay en el código postal 28012?"
   ]
  },
  {
   "cell_type": "code",
   "execution_count": 11,
   "metadata": {},
   "outputs": [
    {
     "data": {
      "text/html": [
       "<ol class=list-inline>\n",
       "\t<li>'Acacias'</li>\n",
       "\t<li>'Arapiles'</li>\n",
       "\t<li>'Atocha'</li>\n",
       "\t<li>'Cortes'</li>\n",
       "\t<li>'Delicias'</li>\n",
       "\t<li>'Embajadores'</li>\n",
       "\t<li>'Goya'</li>\n",
       "\t<li>'Palacio'</li>\n",
       "\t<li>'Palos de Moguer'</li>\n",
       "\t<li>'Sol'</li>\n",
       "\t<li>'Universidad'</li>\n",
       "</ol>\n"
      ],
      "text/latex": [
       "\\begin{enumerate*}\n",
       "\\item 'Acacias'\n",
       "\\item 'Arapiles'\n",
       "\\item 'Atocha'\n",
       "\\item 'Cortes'\n",
       "\\item 'Delicias'\n",
       "\\item 'Embajadores'\n",
       "\\item 'Goya'\n",
       "\\item 'Palacio'\n",
       "\\item 'Palos de Moguer'\n",
       "\\item 'Sol'\n",
       "\\item 'Universidad'\n",
       "\\end{enumerate*}\n"
      ],
      "text/markdown": [
       "1. 'Acacias'\n",
       "2. 'Arapiles'\n",
       "3. 'Atocha'\n",
       "4. 'Cortes'\n",
       "5. 'Delicias'\n",
       "6. 'Embajadores'\n",
       "7. 'Goya'\n",
       "8. 'Palacio'\n",
       "9. 'Palos de Moguer'\n",
       "10. 'Sol'\n",
       "11. 'Universidad'\n",
       "\n",
       "\n"
      ],
      "text/plain": [
       " [1] \"Acacias\"         \"Arapiles\"        \"Atocha\"          \"Cortes\"         \n",
       " [5] \"Delicias\"        \"Embajadores\"     \"Goya\"            \"Palacio\"        \n",
       " [9] \"Palos de Moguer\" \"Sol\"             \"Universidad\"    "
      ]
     },
     "metadata": {},
     "output_type": "display_data"
    }
   ],
   "source": [
    "levels(droplevels(airbnb[airbnb$CodigoPostal == \"28012\", \"Barrio\"]))"
   ]
  },
  {
   "cell_type": "markdown",
   "metadata": {},
   "source": [
    "¿Cuantas entradas hay en cada uno de esos barrios para el codigo postal 28012?"
   ]
  },
  {
   "cell_type": "code",
   "execution_count": 13,
   "metadata": {},
   "outputs": [
    {
     "data": {
      "text/plain": [
       "\n",
       "        Acacias        Arapiles          Atocha          Cortes        Delicias \n",
       "             13               1               1             216               1 \n",
       "    Embajadores            Goya         Palacio Palos de Moguer             Sol \n",
       "           1449               1              27              46             301 \n",
       "    Universidad \n",
       "              4 "
      ]
     },
     "metadata": {},
     "output_type": "display_data"
    }
   ],
   "source": [
    "table(droplevels(airbnb[airbnb$CodigoPostal == \"28012\", \"Barrio\"]))"
   ]
  },
  {
   "cell_type": "markdown",
   "metadata": {},
   "source": [
    "¿Cuantos barrios hay en todo el dataset airbnb? ¿Cuales son?"
   ]
  },
  {
   "cell_type": "markdown",
   "metadata": {},
   "source": [
    "Hay 125 barrios"
   ]
  },
  {
   "cell_type": "code",
   "execution_count": 14,
   "metadata": {},
   "outputs": [
    {
     "name": "stdout",
     "output_type": "stream",
     "text": [
      " Factor w/ 125 levels \"Abrantes\",\"Acacias\",..: 115 115 115 115 115 115 115 115 115 115 ...\n"
     ]
    },
    {
     "data": {
      "text/html": [
       "<dl class=dl-horizontal>\n",
       "\t<dt>Embajadores</dt>\n",
       "\t\t<dd>1844</dd>\n",
       "\t<dt>Universidad</dt>\n",
       "\t\t<dd>1358</dd>\n",
       "\t<dt>Palacio</dt>\n",
       "\t\t<dd>1083</dd>\n",
       "\t<dt>Sol</dt>\n",
       "\t\t<dd>940</dd>\n",
       "\t<dt>Justicia</dt>\n",
       "\t\t<dd>785</dd>\n",
       "\t<dt>Cortes</dt>\n",
       "\t\t<dd>750</dd>\n",
       "\t<dt>Trafalgar</dt>\n",
       "\t\t<dd>315</dd>\n",
       "\t<dt>ArgÃ¼elles</dt>\n",
       "\t\t<dd>264</dd>\n",
       "\t<dt>Palos de Moguer</dt>\n",
       "\t\t<dd>262</dd>\n",
       "\t<dt>Goya</dt>\n",
       "\t\t<dd>229</dd>\n",
       "\t<dt>Puerta del Angel</dt>\n",
       "\t\t<dd>199</dd>\n",
       "\t<dt>Guindalera</dt>\n",
       "\t\t<dd>187</dd>\n",
       "\t<dt>Arapiles</dt>\n",
       "\t\t<dd>182</dd>\n",
       "\t<dt>Recoletos</dt>\n",
       "\t\t<dd>172</dd>\n",
       "\t<dt>Almagro</dt>\n",
       "\t\t<dd>155</dd>\n",
       "\t<dt>Acacias</dt>\n",
       "\t\t<dd>145</dd>\n",
       "\t<dt>Gaztambide</dt>\n",
       "\t\t<dd>142</dd>\n",
       "\t<dt>PacÃ­fico</dt>\n",
       "\t\t<dd>138</dd>\n",
       "\t<dt>Lista</dt>\n",
       "\t\t<dd>129</dd>\n",
       "\t<dt>Delicias</dt>\n",
       "\t\t<dd>126</dd>\n",
       "\t<dt>Cuatro Caminos</dt>\n",
       "\t\t<dd>120</dd>\n",
       "\t<dt>Chopera</dt>\n",
       "\t\t<dd>112</dd>\n",
       "\t<dt>Ibiza</dt>\n",
       "\t\t<dd>105</dd>\n",
       "\t<dt>Rios Rosas</dt>\n",
       "\t\t<dd>104</dd>\n",
       "\t<dt>Prosperidad</dt>\n",
       "\t\t<dd>98</dd>\n",
       "\t<dt>Castellana</dt>\n",
       "\t\t<dd>97</dd>\n",
       "\t<dt>JerÃ³nimos</dt>\n",
       "\t\t<dd>90</dd>\n",
       "\t<dt>Imperial</dt>\n",
       "\t\t<dd>89</dd>\n",
       "\t<dt>San Isidro</dt>\n",
       "\t\t<dd>85</dd>\n",
       "\t<dt>Castillejos</dt>\n",
       "\t\t<dd>81</dd>\n",
       "\t<dt>San Diego</dt>\n",
       "\t\t<dd>80</dd>\n",
       "\t<dt>Bellas Vistas</dt>\n",
       "\t\t<dd>79</dd>\n",
       "\t<dt>Ventas</dt>\n",
       "\t\t<dd>78</dd>\n",
       "\t<dt>Casa de Campo</dt>\n",
       "\t\t<dd>75</dd>\n",
       "\t<dt>Vista Alegre</dt>\n",
       "\t\t<dd>74</dd>\n",
       "\t<dt>HispanoamÃ©rica</dt>\n",
       "\t\t<dd>72</dd>\n",
       "\t<dt>Fuente del Berro</dt>\n",
       "\t\t<dd>68</dd>\n",
       "\t<dt>Berruguete</dt>\n",
       "\t\t<dd>67</dd>\n",
       "\t<dt>Almenara</dt>\n",
       "\t\t<dd>62</dd>\n",
       "\t<dt>Lucero</dt>\n",
       "\t\t<dd>62</dd>\n",
       "\t<dt>Nueva EspaÃ±a</dt>\n",
       "\t\t<dd>60</dd>\n",
       "\t<dt>Vallehermoso</dt>\n",
       "\t\t<dd>60</dd>\n",
       "\t<dt>Comillas</dt>\n",
       "\t\t<dd>59</dd>\n",
       "\t<dt>Numancia</dt>\n",
       "\t\t<dd>58</dd>\n",
       "\t<dt>OpaÃ±el</dt>\n",
       "\t\t<dd>57</dd>\n",
       "\t<dt>Ciudad JardÃ­n</dt>\n",
       "\t\t<dd>55</dd>\n",
       "\t<dt>Valdefuentes</dt>\n",
       "\t\t<dd>55</dd>\n",
       "\t<dt>Adelfas</dt>\n",
       "\t\t<dd>51</dd>\n",
       "\t<dt>Valdeacederas</dt>\n",
       "\t\t<dd>48</dd>\n",
       "\t<dt>Pinar del Rey</dt>\n",
       "\t\t<dd>47</dd>\n",
       "\t<dt>ConcepciÃ³n</dt>\n",
       "\t\t<dd>46</dd>\n",
       "\t<dt>Almendrales</dt>\n",
       "\t\t<dd>45</dd>\n",
       "\t<dt>Aluche</dt>\n",
       "\t\t<dd>45</dd>\n",
       "\t<dt>El Viso</dt>\n",
       "\t\t<dd>45</dd>\n",
       "\t<dt>Quintana</dt>\n",
       "\t\t<dd>45</dd>\n",
       "\t<dt>Simancas</dt>\n",
       "\t\t<dd>45</dd>\n",
       "\t<dt>Valverde</dt>\n",
       "\t\t<dd>45</dd>\n",
       "\t<dt>Canillas</dt>\n",
       "\t\t<dd>42</dd>\n",
       "\t<dt>Pueblo Nuevo</dt>\n",
       "\t\t<dd>41</dd>\n",
       "\t<dt>Casco HistÃ³rico de Vallecas</dt>\n",
       "\t\t<dd>40</dd>\n",
       "\t<dt>PeÃ±agrande</dt>\n",
       "\t\t<dd>39</dd>\n",
       "\t<dt>Puerta Bonita</dt>\n",
       "\t\t<dd>38</dd>\n",
       "\t<dt>Legazpi</dt>\n",
       "\t\t<dd>37</dd>\n",
       "\t<dt>Ciudad Universitaria</dt>\n",
       "\t\t<dd>34</dd>\n",
       "\t<dt>MoscardÃ³</dt>\n",
       "\t\t<dd>34</dd>\n",
       "\t<dt>Palomeras Bajas</dt>\n",
       "\t\t<dd>33</dd>\n",
       "\t<dt>Costillares</dt>\n",
       "\t\t<dd>32</dd>\n",
       "\t<dt>San FermÃ­n</dt>\n",
       "\t\t<dd>32</dd>\n",
       "\t<dt>CÃ¡rmenes</dt>\n",
       "\t\t<dd>30</dd>\n",
       "\t<dt>Casco HistÃ³rico de Barajas</dt>\n",
       "\t\t<dd>28</dd>\n",
       "\t<dt>Estrella</dt>\n",
       "\t\t<dd>28</dd>\n",
       "\t<dt>Los Rosales</dt>\n",
       "\t\t<dd>28</dd>\n",
       "\t<dt>Castilla</dt>\n",
       "\t\t<dd>26</dd>\n",
       "\t<dt>NiÃ±o JesÃºs</dt>\n",
       "\t\t<dd>26</dd>\n",
       "\t<dt>Pilar</dt>\n",
       "\t\t<dd>26</dd>\n",
       "\t<dt>San Juan Bautista</dt>\n",
       "\t\t<dd>26</dd>\n",
       "\t<dt>Alameda de Osuna</dt>\n",
       "\t\t<dd>24</dd>\n",
       "\t<dt>FontarrÃ³n</dt>\n",
       "\t\t<dd>24</dd>\n",
       "\t<dt>Buenavista</dt>\n",
       "\t\t<dd>22</dd>\n",
       "\t<dt>Campamento</dt>\n",
       "\t\t<dd>22</dd>\n",
       "\t<dt>San AndrÃ©s</dt>\n",
       "\t\t<dd>21</dd>\n",
       "\t<dt>Casco HistÃ³rico de VicÃ¡lvaro</dt>\n",
       "\t\t<dd>20</dd>\n",
       "\t<dt>Rejas</dt>\n",
       "\t\t<dd>20</dd>\n",
       "\t<dt>Valdezarza</dt>\n",
       "\t\t<dd>20</dd>\n",
       "\t<dt>Portazgo</dt>\n",
       "\t\t<dd>19</dd>\n",
       "\t<dt>Abrantes</dt>\n",
       "\t\t<dd>18</dd>\n",
       "\t<dt>Arcos</dt>\n",
       "\t\t<dd>18</dd>\n",
       "\t<dt>Atocha</dt>\n",
       "\t\t<dd>18</dd>\n",
       "\t<dt>Mirasierra</dt>\n",
       "\t\t<dd>18</dd>\n",
       "\t<dt>San Pascual</dt>\n",
       "\t\t<dd>18</dd>\n",
       "\t<dt>Media Legua</dt>\n",
       "\t\t<dd>17</dd>\n",
       "\t<dt>Vinateros</dt>\n",
       "\t\t<dd>17</dd>\n",
       "\t<dt>Aravaca</dt>\n",
       "\t\t<dd>16</dd>\n",
       "\t<dt>Colina</dt>\n",
       "\t\t<dd>16</dd>\n",
       "\t<dt>La Paz</dt>\n",
       "\t\t<dd>16</dd>\n",
       "\t<dt>Los Angeles</dt>\n",
       "\t\t<dd>16</dd>\n",
       "\t<dt>TimÃ³n</dt>\n",
       "\t\t<dd>16</dd>\n",
       "\t<dt>Aguilas</dt>\n",
       "\t\t<dd>15</dd>\n",
       "\t<dt>Apostol Santiago</dt>\n",
       "\t\t<dd>15</dd>\n",
       "\t<dt>(Other)</dt>\n",
       "\t\t<dd>192</dd>\n",
       "</dl>\n"
      ],
      "text/latex": [
       "\\begin{description*}\n",
       "\\item[Embajadores] 1844\n",
       "\\item[Universidad] 1358\n",
       "\\item[Palacio] 1083\n",
       "\\item[Sol] 940\n",
       "\\item[Justicia] 785\n",
       "\\item[Cortes] 750\n",
       "\\item[Trafalgar] 315\n",
       "\\item[ArgÃ¼elles] 264\n",
       "\\item[Palos de Moguer] 262\n",
       "\\item[Goya] 229\n",
       "\\item[Puerta del Angel] 199\n",
       "\\item[Guindalera] 187\n",
       "\\item[Arapiles] 182\n",
       "\\item[Recoletos] 172\n",
       "\\item[Almagro] 155\n",
       "\\item[Acacias] 145\n",
       "\\item[Gaztambide] 142\n",
       "\\item[PacÃ­fico] 138\n",
       "\\item[Lista] 129\n",
       "\\item[Delicias] 126\n",
       "\\item[Cuatro Caminos] 120\n",
       "\\item[Chopera] 112\n",
       "\\item[Ibiza] 105\n",
       "\\item[Rios Rosas] 104\n",
       "\\item[Prosperidad] 98\n",
       "\\item[Castellana] 97\n",
       "\\item[JerÃ³nimos] 90\n",
       "\\item[Imperial] 89\n",
       "\\item[San Isidro] 85\n",
       "\\item[Castillejos] 81\n",
       "\\item[San Diego] 80\n",
       "\\item[Bellas Vistas] 79\n",
       "\\item[Ventas] 78\n",
       "\\item[Casa de Campo] 75\n",
       "\\item[Vista Alegre] 74\n",
       "\\item[HispanoamÃ©rica] 72\n",
       "\\item[Fuente del Berro] 68\n",
       "\\item[Berruguete] 67\n",
       "\\item[Almenara] 62\n",
       "\\item[Lucero] 62\n",
       "\\item[Nueva EspaÃ±a] 60\n",
       "\\item[Vallehermoso] 60\n",
       "\\item[Comillas] 59\n",
       "\\item[Numancia] 58\n",
       "\\item[OpaÃ±el] 57\n",
       "\\item[Ciudad JardÃ­n] 55\n",
       "\\item[Valdefuentes] 55\n",
       "\\item[Adelfas] 51\n",
       "\\item[Valdeacederas] 48\n",
       "\\item[Pinar del Rey] 47\n",
       "\\item[ConcepciÃ³n] 46\n",
       "\\item[Almendrales] 45\n",
       "\\item[Aluche] 45\n",
       "\\item[El Viso] 45\n",
       "\\item[Quintana] 45\n",
       "\\item[Simancas] 45\n",
       "\\item[Valverde] 45\n",
       "\\item[Canillas] 42\n",
       "\\item[Pueblo Nuevo] 41\n",
       "\\item[Casco HistÃ³rico de Vallecas] 40\n",
       "\\item[PeÃ±agrande] 39\n",
       "\\item[Puerta Bonita] 38\n",
       "\\item[Legazpi] 37\n",
       "\\item[Ciudad Universitaria] 34\n",
       "\\item[MoscardÃ³] 34\n",
       "\\item[Palomeras Bajas] 33\n",
       "\\item[Costillares] 32\n",
       "\\item[San FermÃ­n] 32\n",
       "\\item[CÃ¡rmenes] 30\n",
       "\\item[Casco HistÃ³rico de Barajas] 28\n",
       "\\item[Estrella] 28\n",
       "\\item[Los Rosales] 28\n",
       "\\item[Castilla] 26\n",
       "\\item[NiÃ±o JesÃºs] 26\n",
       "\\item[Pilar] 26\n",
       "\\item[San Juan Bautista] 26\n",
       "\\item[Alameda de Osuna] 24\n",
       "\\item[FontarrÃ³n] 24\n",
       "\\item[Buenavista] 22\n",
       "\\item[Campamento] 22\n",
       "\\item[San AndrÃ©s] 21\n",
       "\\item[Casco HistÃ³rico de VicÃ¡lvaro] 20\n",
       "\\item[Rejas] 20\n",
       "\\item[Valdezarza] 20\n",
       "\\item[Portazgo] 19\n",
       "\\item[Abrantes] 18\n",
       "\\item[Arcos] 18\n",
       "\\item[Atocha] 18\n",
       "\\item[Mirasierra] 18\n",
       "\\item[San Pascual] 18\n",
       "\\item[Media Legua] 17\n",
       "\\item[Vinateros] 17\n",
       "\\item[Aravaca] 16\n",
       "\\item[Colina] 16\n",
       "\\item[La Paz] 16\n",
       "\\item[Los Angeles] 16\n",
       "\\item[TimÃ³n] 16\n",
       "\\item[Aguilas] 15\n",
       "\\item[Apostol Santiago] 15\n",
       "\\item[(Other)] 192\n",
       "\\end{description*}\n"
      ],
      "text/markdown": [
       "Embajadores\n",
       ":   1844Universidad\n",
       ":   1358Palacio\n",
       ":   1083Sol\n",
       ":   940Justicia\n",
       ":   785Cortes\n",
       ":   750Trafalgar\n",
       ":   315ArgÃ¼elles\n",
       ":   264Palos de Moguer\n",
       ":   262Goya\n",
       ":   229Puerta del Angel\n",
       ":   199Guindalera\n",
       ":   187Arapiles\n",
       ":   182Recoletos\n",
       ":   172Almagro\n",
       ":   155Acacias\n",
       ":   145Gaztambide\n",
       ":   142PacÃ­fico\n",
       ":   138Lista\n",
       ":   129Delicias\n",
       ":   126Cuatro Caminos\n",
       ":   120Chopera\n",
       ":   112Ibiza\n",
       ":   105Rios Rosas\n",
       ":   104Prosperidad\n",
       ":   98Castellana\n",
       ":   97JerÃ³nimos\n",
       ":   90Imperial\n",
       ":   89San Isidro\n",
       ":   85Castillejos\n",
       ":   81San Diego\n",
       ":   80Bellas Vistas\n",
       ":   79Ventas\n",
       ":   78Casa de Campo\n",
       ":   75Vista Alegre\n",
       ":   74HispanoamÃ©rica\n",
       ":   72Fuente del Berro\n",
       ":   68Berruguete\n",
       ":   67Almenara\n",
       ":   62Lucero\n",
       ":   62Nueva EspaÃ±a\n",
       ":   60Vallehermoso\n",
       ":   60Comillas\n",
       ":   59Numancia\n",
       ":   58OpaÃ±el\n",
       ":   57Ciudad JardÃ­n\n",
       ":   55Valdefuentes\n",
       ":   55Adelfas\n",
       ":   51Valdeacederas\n",
       ":   48Pinar del Rey\n",
       ":   47ConcepciÃ³n\n",
       ":   46Almendrales\n",
       ":   45Aluche\n",
       ":   45El Viso\n",
       ":   45Quintana\n",
       ":   45Simancas\n",
       ":   45Valverde\n",
       ":   45Canillas\n",
       ":   42Pueblo Nuevo\n",
       ":   41Casco HistÃ³rico de Vallecas\n",
       ":   40PeÃ±agrande\n",
       ":   39Puerta Bonita\n",
       ":   38Legazpi\n",
       ":   37Ciudad Universitaria\n",
       ":   34MoscardÃ³\n",
       ":   34Palomeras Bajas\n",
       ":   33Costillares\n",
       ":   32San FermÃ­n\n",
       ":   32CÃ¡rmenes\n",
       ":   30Casco HistÃ³rico de Barajas\n",
       ":   28Estrella\n",
       ":   28Los Rosales\n",
       ":   28Castilla\n",
       ":   26NiÃ±o JesÃºs\n",
       ":   26Pilar\n",
       ":   26San Juan Bautista\n",
       ":   26Alameda de Osuna\n",
       ":   24FontarrÃ³n\n",
       ":   24Buenavista\n",
       ":   22Campamento\n",
       ":   22San AndrÃ©s\n",
       ":   21Casco HistÃ³rico de VicÃ¡lvaro\n",
       ":   20Rejas\n",
       ":   20Valdezarza\n",
       ":   20Portazgo\n",
       ":   19Abrantes\n",
       ":   18Arcos\n",
       ":   18Atocha\n",
       ":   18Mirasierra\n",
       ":   18San Pascual\n",
       ":   18Media Legua\n",
       ":   17Vinateros\n",
       ":   17Aravaca\n",
       ":   16Colina\n",
       ":   16La Paz\n",
       ":   16Los Angeles\n",
       ":   16TimÃ³n\n",
       ":   16Aguilas\n",
       ":   15Apostol Santiago\n",
       ":   15(Other)\n",
       ":   192\n",
       "\n"
      ],
      "text/plain": [
       "                   Embajadores                    Universidad \n",
       "                          1844                           1358 \n",
       "                       Palacio                            Sol \n",
       "                          1083                            940 \n",
       "                      Justicia                         Cortes \n",
       "                           785                            750 \n",
       "                     Trafalgar                     ArgÃ¼elles \n",
       "                           315                            264 \n",
       "               Palos de Moguer                           Goya \n",
       "                           262                            229 \n",
       "              Puerta del Angel                     Guindalera \n",
       "                           199                            187 \n",
       "                      Arapiles                      Recoletos \n",
       "                           182                            172 \n",
       "                       Almagro                        Acacias \n",
       "                           155                            145 \n",
       "                    Gaztambide                      PacÃ­fico \n",
       "                           142                            138 \n",
       "                         Lista                       Delicias \n",
       "                           129                            126 \n",
       "                Cuatro Caminos                        Chopera \n",
       "                           120                            112 \n",
       "                         Ibiza                     Rios Rosas \n",
       "                           105                            104 \n",
       "                   Prosperidad                     Castellana \n",
       "                            98                             97 \n",
       "                    JerÃ³nimos                       Imperial \n",
       "                            90                             89 \n",
       "                    San Isidro                    Castillejos \n",
       "                            85                             81 \n",
       "                     San Diego                  Bellas Vistas \n",
       "                            80                             79 \n",
       "                        Ventas                  Casa de Campo \n",
       "                            78                             75 \n",
       "                  Vista Alegre                HispanoamÃ©rica \n",
       "                            74                             72 \n",
       "              Fuente del Berro                     Berruguete \n",
       "                            68                             67 \n",
       "                      Almenara                         Lucero \n",
       "                            62                             62 \n",
       "                 Nueva EspaÃ±a                   Vallehermoso \n",
       "                            60                             60 \n",
       "                      Comillas                       Numancia \n",
       "                            59                             58 \n",
       "                       OpaÃ±el                 Ciudad JardÃ­n \n",
       "                            57                             55 \n",
       "                  Valdefuentes                        Adelfas \n",
       "                            55                             51 \n",
       "                 Valdeacederas                  Pinar del Rey \n",
       "                            48                             47 \n",
       "                   ConcepciÃ³n                    Almendrales \n",
       "                            46                             45 \n",
       "                        Aluche                        El Viso \n",
       "                            45                             45 \n",
       "                      Quintana                       Simancas \n",
       "                            45                             45 \n",
       "                      Valverde                       Canillas \n",
       "                            45                             42 \n",
       "                  Pueblo Nuevo   Casco HistÃ³rico de Vallecas \n",
       "                            41                             40 \n",
       "                   PeÃ±agrande                  Puerta Bonita \n",
       "                            39                             38 \n",
       "                       Legazpi           Ciudad Universitaria \n",
       "                            37                             34 \n",
       "                     MoscardÃ³                Palomeras Bajas \n",
       "                            34                             33 \n",
       "                   Costillares                    San FermÃ­n \n",
       "                            32                             32 \n",
       "                     CÃ¡rmenes    Casco HistÃ³rico de Barajas \n",
       "                            30                             28 \n",
       "                      Estrella                    Los Rosales \n",
       "                            28                             28 \n",
       "                      Castilla                   NiÃ±o JesÃºs \n",
       "                            26                             26 \n",
       "                         Pilar              San Juan Bautista \n",
       "                            26                             26 \n",
       "              Alameda de Osuna                     FontarrÃ³n \n",
       "                            24                             24 \n",
       "                    Buenavista                     Campamento \n",
       "                            22                             22 \n",
       "                   San AndrÃ©s Casco HistÃ³rico de VicÃ¡lvaro \n",
       "                            21                             20 \n",
       "                         Rejas                     Valdezarza \n",
       "                            20                             20 \n",
       "                      Portazgo                       Abrantes \n",
       "                            19                             18 \n",
       "                         Arcos                         Atocha \n",
       "                            18                             18 \n",
       "                    Mirasierra                    San Pascual \n",
       "                            18                             18 \n",
       "                   Media Legua                      Vinateros \n",
       "                            17                             17 \n",
       "                       Aravaca                         Colina \n",
       "                            16                             16 \n",
       "                        La Paz                    Los Angeles \n",
       "                            16                             16 \n",
       "                        TimÃ³n                        Aguilas \n",
       "                            16                             15 \n",
       "              Apostol Santiago                        (Other) \n",
       "                            15                            192 "
      ]
     },
     "metadata": {},
     "output_type": "display_data"
    }
   ],
   "source": [
    "str(airbnb$Barrio)\n",
    "summary(airbnb$Barrio)"
   ]
  },
  {
   "cell_type": "markdown",
   "metadata": {},
   "source": [
    "¿Cuales son los 5 barrios que tienen mayor número entradas?"
   ]
  },
  {
   "cell_type": "code",
   "execution_count": 12,
   "metadata": {},
   "outputs": [
    {
     "data": {
      "text/html": [
       "<dl class=dl-horizontal>\n",
       "\t<dt>Embajadores</dt>\n",
       "\t\t<dd>1844</dd>\n",
       "\t<dt>Universidad</dt>\n",
       "\t\t<dd>1358</dd>\n",
       "\t<dt>Palacio</dt>\n",
       "\t\t<dd>1083</dd>\n",
       "\t<dt>Sol</dt>\n",
       "\t\t<dd>940</dd>\n",
       "\t<dt>Justicia</dt>\n",
       "\t\t<dd>785</dd>\n",
       "</dl>\n"
      ],
      "text/latex": [
       "\\begin{description*}\n",
       "\\item[Embajadores] 1844\n",
       "\\item[Universidad] 1358\n",
       "\\item[Palacio] 1083\n",
       "\\item[Sol] 940\n",
       "\\item[Justicia] 785\n",
       "\\end{description*}\n"
      ],
      "text/markdown": [
       "Embajadores\n",
       ":   1844Universidad\n",
       ":   1358Palacio\n",
       ":   1083Sol\n",
       ":   940Justicia\n",
       ":   785\n",
       "\n"
      ],
      "text/plain": [
       "Embajadores Universidad     Palacio         Sol    Justicia \n",
       "       1844        1358        1083         940         785 "
      ]
     },
     "metadata": {},
     "output_type": "display_data"
    }
   ],
   "source": [
    "head(summary(airbnb$Barrio), 5)"
   ]
  },
  {
   "cell_type": "markdown",
   "metadata": {},
   "source": [
    "¿Cuantos Tipos de Alquiler diferentes hay? ¿Cuales son? ¿Cuantas entradas en el dataframe hay por cada tipo?"
   ]
  },
  {
   "cell_type": "code",
   "execution_count": 13,
   "metadata": {},
   "outputs": [
    {
     "data": {
      "text/html": [
       "<dl class=dl-horizontal>\n",
       "\t<dt>Entire home/apt</dt>\n",
       "\t\t<dd>7903</dd>\n",
       "\t<dt>Private room</dt>\n",
       "\t\t<dd>5113</dd>\n",
       "\t<dt>Shared room</dt>\n",
       "\t\t<dd>191</dd>\n",
       "</dl>\n"
      ],
      "text/latex": [
       "\\begin{description*}\n",
       "\\item[Entire home/apt] 7903\n",
       "\\item[Private room] 5113\n",
       "\\item[Shared room] 191\n",
       "\\end{description*}\n"
      ],
      "text/markdown": [
       "Entire home/apt\n",
       ":   7903Private room\n",
       ":   5113Shared room\n",
       ":   191\n",
       "\n"
      ],
      "text/plain": [
       "Entire home/apt    Private room     Shared room \n",
       "           7903            5113             191 "
      ]
     },
     "metadata": {},
     "output_type": "display_data"
    }
   ],
   "source": [
    "summary(airbnb$TipoAlquiler)"
   ]
  },
  {
   "cell_type": "markdown",
   "metadata": {},
   "source": [
    "Muestra el diagrama de cajas del precio para cada uno de los diferentes Tipos de Alquiler"
   ]
  },
  {
   "cell_type": "code",
   "execution_count": 14,
   "metadata": {},
   "outputs": [
    {
     "name": "stderr",
     "output_type": "stream",
     "text": [
      "Warning message:\n",
      "\"Removed 1771 rows containing non-finite values (stat_boxplot).\""
     ]
    },
    {
     "data": {
      "image/png": "[encoded data removed]",
      "text/plain": [
       "plot without title"
      ]
     },
     "metadata": {},
     "output_type": "display_data"
    }
   ],
   "source": [
    "ggplot(data = airbnb, aes(x = TipoAlquiler, y = Precio, color = TipoAlquiler)) +\n",
    "geom_boxplot() + ylim(10, 100)"
   ]
  },
  {
   "cell_type": "markdown",
   "metadata": {},
   "source": [
    "Cual es el precio medio de alquiler de cada uno, la diferencia que hay ¿es estadísticamente significativa?\n",
    "¿Con que test lo comprobarías?"
   ]
  },
  {
   "cell_type": "code",
   "execution_count": 15,
   "metadata": {},
   "outputs": [
    {
     "name": "stdout",
     "output_type": "stream",
     "text": [
      "[1] \"Tipo de alquiler  Entire home/apt media, 87.2966058763931\"\n",
      "[1] \"Tipo de alquiler  Private room media, 34.255135981217\"\n",
      "[1] \"Tipo de alquiler  Shared room media, 29.8534031413613\"\n"
     ]
    }
   ],
   "source": [
    "for (v in levels(airbnb$TipoAlquiler)) {\n",
    "    print(paste(\"Tipo de alquiler \", v, \"media,\",\n",
    "                mean(airbnb$Precio[airbnb$TipoAlquiler == v], na.rm = TRUE)))\n",
    "}"
   ]
  },
  {
   "cell_type": "code",
   "execution_count": 15,
   "metadata": {},
   "outputs": [
    {
     "name": "stdout",
     "output_type": "stream",
     "text": [
      "[1] \"Tipo de alquiler  Entire home/apt pvalue, 3.18438623057257e-14\"\n",
      "[1] \"Tipo de alquiler  Private room pvalue, 8.12708539680416e-16\"\n",
      "[1] \"Tipo de alquiler  Shared room pvalue, 4.51672121600842e-24\"\n"
     ]
    },
    {
     "data": {
      "text/plain": [
       "\n",
       "\tKruskal-Wallis rank sum test\n",
       "\n",
       "data:  Precio by TipoAlquiler\n",
       "Kruskal-Wallis chi-squared = 7235.6, df = 2, p-value < 2.2e-16\n"
      ]
     },
     "metadata": {},
     "output_type": "display_data"
    }
   ],
   "source": [
    "for (v in levels(airbnb$TipoAlquiler)) {\n",
    "    print(paste(\"Tipo de alquiler \", v, \"pvalue,\",\n",
    "                shapiro.test(sample(airbnb$Precio[airbnb$TipoAlquiler == v], 191))$p.value)) \n",
    "}\n",
    "kruskal.test(Precio ~ TipoAlquiler, data = airbnb)"
   ]
  },
  {
   "cell_type": "markdown",
   "metadata": {},
   "source": [
    "Como el test de Shapiro nos indica que los datos no siguen una distribución normal, en vez de hacer un ANOVA usamos el test de Kruskal-Wallis que nos dice que las medias sí son estadísticamente diferentes\n"
   ]
  },
  {
   "cell_type": "markdown",
   "metadata": {},
   "source": [
    "Filtra el dataframe cuyos tipo de alquiler sea  'Entire home/apt' y guardalo en un dataframe llamado \n",
    "*airbnb_entire*.\n",
    "Estas serán las entradas que tienen un alquiler del piso completo."
   ]
  },
  {
   "cell_type": "code",
   "execution_count": 19,
   "metadata": {},
   "outputs": [
    {
     "data": {
      "text/html": [
       "<table>\n",
       "<thead><tr><th></th><th scope=col>CodigoPostal</th><th scope=col>Barrio</th><th scope=col>TipoPropiedad</th><th scope=col>TipoAlquiler</th><th scope=col>MaxOcupantes</th><th scope=col>NumBanyos</th><th scope=col>NumDormitorios</th><th scope=col>NumCamas</th><th scope=col>TipoCama</th><th scope=col>Comodidades</th><th scope=col>PiesCuadrados</th><th scope=col>Precio</th><th scope=col>Puntuacion</th><th scope=col>MetrosCuadrados</th></tr></thead>\n",
       "<tbody>\n",
       "\t<tr><th scope=row>2</th><td>28004                                                                                                                                                                                                                                                                                                                                                           </td><td>Universidad                                                                                                                                                                                                                                                                                                                                                     </td><td>Apartment                                                                                                                                                                                                                                                                                                                                                       </td><td>Entire home/apt                                                                                                                                                                                                                                                                                                                                                 </td><td>6                                                                                                                                                                                                                                                                                                                                                               </td><td>1                                                                                                                                                                                                                                                                                                                                                               </td><td>3                                                                                                                                                                                                                                                                                                                                                               </td><td> 5                                                                                                                                                                                                                                                                                                                                                              </td><td>Real Bed                                                                                                                                                                                                                                                                                                                                                        </td><td>TV,Internet,Wireless Internet,Air conditioning,Kitchen,Indoor fireplace,Heating,Family/kid friendly,Washer,Dryer,Smoke detector,Carbon monoxide detector,Essentials,Shampoo                                                                                                                                                                                     </td><td> NA                                                                                                                                                                                                                                                                                                                                                             </td><td>92                                                                                                                                                                                                                                                                                                                                                              </td><td> 96                                                                                                                                                                                                                                                                                                                                                             </td><td>      NA                                                                                                                                                                                                                                                                                                                                                        </td></tr>\n",
       "\t<tr><th scope=row>3</th><td>28004                                                                                                                                                                                                                                                                                                                                                           </td><td>Universidad                                                                                                                                                                                                                                                                                                                                                     </td><td>Apartment                                                                                                                                                                                                                                                                                                                                                       </td><td>Entire home/apt                                                                                                                                                                                                                                                                                                                                                 </td><td>3                                                                                                                                                                                                                                                                                                                                                               </td><td>1                                                                                                                                                                                                                                                                                                                                                               </td><td>2                                                                                                                                                                                                                                                                                                                                                               </td><td> 2                                                                                                                                                                                                                                                                                                                                                              </td><td>Real Bed                                                                                                                                                                                                                                                                                                                                                        </td><td>TV,Internet,Wireless Internet,Air conditioning,Kitchen,Doorman,Heating,Family/kid friendly,Washer,Essentials,Shampoo,Hangers,Hair dryer,Iron,Laptop friendly workspace                                                                                                                                                                                          </td><td> NA                                                                                                                                                                                                                                                                                                                                                             </td><td>55                                                                                                                                                                                                                                                                                                                                                              </td><td> 91                                                                                                                                                                                                                                                                                                                                                             </td><td>      NA                                                                                                                                                                                                                                                                                                                                                        </td></tr>\n",
       "\t<tr><th scope=row>4</th><td>28004                                                                                                                                                                                                                                                                                                                                                           </td><td>Universidad                                                                                                                                                                                                                                                                                                                                                     </td><td>Loft                                                                                                                                                                                                                                                                                                                                                            </td><td>Entire home/apt                                                                                                                                                                                                                                                                                                                                                 </td><td>3                                                                                                                                                                                                                                                                                                                                                               </td><td>2                                                                                                                                                                                                                                                                                                                                                               </td><td>1                                                                                                                                                                                                                                                                                                                                                               </td><td> 1                                                                                                                                                                                                                                                                                                                                                              </td><td>Real Bed                                                                                                                                                                                                                                                                                                                                                        </td><td>TV,Internet,Wireless Internet,Air conditioning,Kitchen,Pets allowed,Breakfast,Elevator in building,Indoor fireplace,Buzzer/wireless intercom,Heating,Washer,Essentials,Shampoo,Hangers,Hair dryer,Iron,Laptop friendly workspace,translation missing: en.hosting_amenity_49,translation missing: en.hosting_amenity_50                                          </td><td> NA                                                                                                                                                                                                                                                                                                                                                             </td><td>60                                                                                                                                                                                                                                                                                                                                                              </td><td>100                                                                                                                                                                                                                                                                                                                                                             </td><td>      NA                                                                                                                                                                                                                                                                                                                                                        </td></tr>\n",
       "\t<tr><th scope=row>5</th><td>28015                                                                                                                                                                                                                                                                                                                                                           </td><td>Universidad                                                                                                                                                                                                                                                                                                                                                     </td><td>Apartment                                                                                                                                                                                                                                                                                                                                                       </td><td>Entire home/apt                                                                                                                                                                                                                                                                                                                                                 </td><td>5                                                                                                                                                                                                                                                                                                                                                               </td><td>1                                                                                                                                                                                                                                                                                                                                                               </td><td>1                                                                                                                                                                                                                                                                                                                                                               </td><td> 1                                                                                                                                                                                                                                                                                                                                                              </td><td>Real Bed                                                                                                                                                                                                                                                                                                                                                        </td><td>TV,Wireless Internet,Air conditioning,Kitchen,Smoking allowed,Pets allowed,Elevator in building,Heating,Family/kid friendly,Washer,Essentials,Iron                                                                                                                                                                                                              </td><td>538                                                                                                                                                                                                                                                                                                                                                             </td><td>75                                                                                                                                                                                                                                                                                                                                                              </td><td> 90                                                                                                                                                                                                                                                                                                                                                             </td><td>49.98181                                                                                                                                                                                                                                                                                                                                                        </td></tr>\n",
       "\t<tr><th scope=row>6</th><td>28004                                                                                                                                                                                                                                                                                                                                                           </td><td>Universidad                                                                                                                                                                                                                                                                                                                                                     </td><td>Apartment                                                                                                                                                                                                                                                                                                                                                       </td><td>Entire home/apt                                                                                                                                                                                                                                                                                                                                                 </td><td>2                                                                                                                                                                                                                                                                                                                                                               </td><td>1                                                                                                                                                                                                                                                                                                                                                               </td><td>0                                                                                                                                                                                                                                                                                                                                                               </td><td> 1                                                                                                                                                                                                                                                                                                                                                              </td><td>Real Bed                                                                                                                                                                                                                                                                                                                                                        </td><td>TV,Cable TV,Internet,Wireless Internet,Air conditioning,Wheelchair accessible,Kitchen,Doorman,Elevator in building,Buzzer/wireless intercom,Heating,Washer,Smoke detector,Carbon monoxide detector,First aid kit,Safety card,Fire extinguisher,Essentials,Shampoo,24-hour check-in,Hangers,Hair dryer,Iron,Laptop friendly workspace,Self Check-In,Doorman Entry</td><td> NA                                                                                                                                                                                                                                                                                                                                                             </td><td>55                                                                                                                                                                                                                                                                                                                                                              </td><td> 95                                                                                                                                                                                                                                                                                                                                                             </td><td>      NA                                                                                                                                                                                                                                                                                                                                                        </td></tr>\n",
       "\t<tr><th scope=row>8</th><td>28004                                                                                                                                                                                                                                                                                                                                                           </td><td>Universidad                                                                                                                                                                                                                                                                                                                                                     </td><td>Apartment                                                                                                                                                                                                                                                                                                                                                       </td><td>Entire home/apt                                                                                                                                                                                                                                                                                                                                                 </td><td>3                                                                                                                                                                                                                                                                                                                                                               </td><td>1                                                                                                                                                                                                                                                                                                                                                               </td><td>1                                                                                                                                                                                                                                                                                                                                                               </td><td>NA                                                                                                                                                                                                                                                                                                                                                              </td><td>Real Bed                                                                                                                                                                                                                                                                                                                                                        </td><td>TV,Wireless Internet,Air conditioning,Kitchen,Elevator in building,Buzzer/wireless intercom,Heating,Washer                                                                                                                                                                                                                                                      </td><td> NA                                                                                                                                                                                                                                                                                                                                                             </td><td>70                                                                                                                                                                                                                                                                                                                                                              </td><td> 84                                                                                                                                                                                                                                                                                                                                                             </td><td>      NA                                                                                                                                                                                                                                                                                                                                                        </td></tr>\n",
       "</tbody>\n",
       "</table>\n"
      ],
      "text/latex": [
       "\\begin{tabular}{r|llllllllllllll}\n",
       "  & CodigoPostal & Barrio & TipoPropiedad & TipoAlquiler & MaxOcupantes & NumBanyos & NumDormitorios & NumCamas & TipoCama & Comodidades & PiesCuadrados & Precio & Puntuacion & MetrosCuadrados\\\\\n",
       "\\hline\n",
       "\t2 & 28004                                                                                                                                                                                                                                                                                                                                                            & Universidad                                                                                                                                                                                                                                                                                                                                                      & Apartment                                                                                                                                                                                                                                                                                                                                                        & Entire home/apt                                                                                                                                                                                                                                                                                                                                                  & 6                                                                                                                                                                                                                                                                                                                                                                & 1                                                                                                                                                                                                                                                                                                                                                                & 3                                                                                                                                                                                                                                                                                                                                                                &  5                                                                                                                                                                                                                                                                                                                                                               & Real Bed                                                                                                                                                                                                                                                                                                                                                         & TV,Internet,Wireless Internet,Air conditioning,Kitchen,Indoor fireplace,Heating,Family/kid friendly,Washer,Dryer,Smoke detector,Carbon monoxide detector,Essentials,Shampoo                                                                                                                                                                                      &  NA                                                                                                                                                                                                                                                                                                                                                              & 92                                                                                                                                                                                                                                                                                                                                                               &  96                                                                                                                                                                                                                                                                                                                                                              &       NA                                                                                                                                                                                                                                                                                                                                                        \\\\\n",
       "\t3 & 28004                                                                                                                                                                                                                                                                                                                                                            & Universidad                                                                                                                                                                                                                                                                                                                                                      & Apartment                                                                                                                                                                                                                                                                                                                                                        & Entire home/apt                                                                                                                                                                                                                                                                                                                                                  & 3                                                                                                                                                                                                                                                                                                                                                                & 1                                                                                                                                                                                                                                                                                                                                                                & 2                                                                                                                                                                                                                                                                                                                                                                &  2                                                                                                                                                                                                                                                                                                                                                               & Real Bed                                                                                                                                                                                                                                                                                                                                                         & TV,Internet,Wireless Internet,Air conditioning,Kitchen,Doorman,Heating,Family/kid friendly,Washer,Essentials,Shampoo,Hangers,Hair dryer,Iron,Laptop friendly workspace                                                                                                                                                                                           &  NA                                                                                                                                                                                                                                                                                                                                                              & 55                                                                                                                                                                                                                                                                                                                                                               &  91                                                                                                                                                                                                                                                                                                                                                              &       NA                                                                                                                                                                                                                                                                                                                                                        \\\\\n",
       "\t4 & 28004                                                                                                                                                                                                                                                                                                                                                                    & Universidad                                                                                                                                                                                                                                                                                                                                                              & Loft                                                                                                                                                                                                                                                                                                                                                                     & Entire home/apt                                                                                                                                                                                                                                                                                                                                                          & 3                                                                                                                                                                                                                                                                                                                                                                        & 2                                                                                                                                                                                                                                                                                                                                                                        & 1                                                                                                                                                                                                                                                                                                                                                                        &  1                                                                                                                                                                                                                                                                                                                                                                       & Real Bed                                                                                                                                                                                                                                                                                                                                                                 & TV,Internet,Wireless Internet,Air conditioning,Kitchen,Pets allowed,Breakfast,Elevator in building,Indoor fireplace,Buzzer/wireless intercom,Heating,Washer,Essentials,Shampoo,Hangers,Hair dryer,Iron,Laptop friendly workspace,translation missing: en.hosting\\_amenity\\_49,translation missing: en.hosting\\_amenity\\_50                                           &  NA                                                                                                                                                                                                                                                                                                                                                                      & 60                                                                                                                                                                                                                                                                                                                                                                       & 100                                                                                                                                                                                                                                                                                                                                                                      &       NA                                                                                                                                                                                                                                                                                                                                                                \\\\\n",
       "\t5 & 28015                                                                                                                                                                                                                                                                                                                                                            & Universidad                                                                                                                                                                                                                                                                                                                                                      & Apartment                                                                                                                                                                                                                                                                                                                                                        & Entire home/apt                                                                                                                                                                                                                                                                                                                                                  & 5                                                                                                                                                                                                                                                                                                                                                                & 1                                                                                                                                                                                                                                                                                                                                                                & 1                                                                                                                                                                                                                                                                                                                                                                &  1                                                                                                                                                                                                                                                                                                                                                               & Real Bed                                                                                                                                                                                                                                                                                                                                                         & TV,Wireless Internet,Air conditioning,Kitchen,Smoking allowed,Pets allowed,Elevator in building,Heating,Family/kid friendly,Washer,Essentials,Iron                                                                                                                                                                                                               & 538                                                                                                                                                                                                                                                                                                                                                              & 75                                                                                                                                                                                                                                                                                                                                                               &  90                                                                                                                                                                                                                                                                                                                                                              & 49.98181                                                                                                                                                                                                                                                                                                                                                        \\\\\n",
       "\t6 & 28004                                                                                                                                                                                                                                                                                                                                                            & Universidad                                                                                                                                                                                                                                                                                                                                                      & Apartment                                                                                                                                                                                                                                                                                                                                                        & Entire home/apt                                                                                                                                                                                                                                                                                                                                                  & 2                                                                                                                                                                                                                                                                                                                                                                & 1                                                                                                                                                                                                                                                                                                                                                                & 0                                                                                                                                                                                                                                                                                                                                                                &  1                                                                                                                                                                                                                                                                                                                                                               & Real Bed                                                                                                                                                                                                                                                                                                                                                         & TV,Cable TV,Internet,Wireless Internet,Air conditioning,Wheelchair accessible,Kitchen,Doorman,Elevator in building,Buzzer/wireless intercom,Heating,Washer,Smoke detector,Carbon monoxide detector,First aid kit,Safety card,Fire extinguisher,Essentials,Shampoo,24-hour check-in,Hangers,Hair dryer,Iron,Laptop friendly workspace,Self Check-In,Doorman Entry &  NA                                                                                                                                                                                                                                                                                                                                                              & 55                                                                                                                                                                                                                                                                                                                                                               &  95                                                                                                                                                                                                                                                                                                                                                              &       NA                                                                                                                                                                                                                                                                                                                                                        \\\\\n",
       "\t8 & 28004                                                                                                                                                                                                                                                                                                                                                            & Universidad                                                                                                                                                                                                                                                                                                                                                      & Apartment                                                                                                                                                                                                                                                                                                                                                        & Entire home/apt                                                                                                                                                                                                                                                                                                                                                  & 3                                                                                                                                                                                                                                                                                                                                                                & 1                                                                                                                                                                                                                                                                                                                                                                & 1                                                                                                                                                                                                                                                                                                                                                                & NA                                                                                                                                                                                                                                                                                                                                                               & Real Bed                                                                                                                                                                                                                                                                                                                                                         & TV,Wireless Internet,Air conditioning,Kitchen,Elevator in building,Buzzer/wireless intercom,Heating,Washer                                                                                                                                                                                                                                                       &  NA                                                                                                                                                                                                                                                                                                                                                              & 70                                                                                                                                                                                                                                                                                                                                                               &  84                                                                                                                                                                                                                                                                                                                                                              &       NA                                                                                                                                                                                                                                                                                                                                                        \\\\\n",
       "\\end{tabular}\n"
      ],
      "text/markdown": [
       "\n",
       "| <!--/--> | CodigoPostal | Barrio | TipoPropiedad | TipoAlquiler | MaxOcupantes | NumBanyos | NumDormitorios | NumCamas | TipoCama | Comodidades | PiesCuadrados | Precio | Puntuacion | MetrosCuadrados |\n",
       "|---|---|---|---|---|---|---|---|---|---|---|---|---|---|---|\n",
       "| 2 | 28004                                                                                                                                                                                                                                                                                                                                                            | Universidad                                                                                                                                                                                                                                                                                                                                                      | Apartment                                                                                                                                                                                                                                                                                                                                                        | Entire home/apt                                                                                                                                                                                                                                                                                                                                                  | 6                                                                                                                                                                                                                                                                                                                                                                | 1                                                                                                                                                                                                                                                                                                                                                                | 3                                                                                                                                                                                                                                                                                                                                                                |  5                                                                                                                                                                                                                                                                                                                                                               | Real Bed                                                                                                                                                                                                                                                                                                                                                         | TV,Internet,Wireless Internet,Air conditioning,Kitchen,Indoor fireplace,Heating,Family/kid friendly,Washer,Dryer,Smoke detector,Carbon monoxide detector,Essentials,Shampoo                                                                                                                                                                                      |  NA                                                                                                                                                                                                                                                                                                                                                              | 92                                                                                                                                                                                                                                                                                                                                                               |  96                                                                                                                                                                                                                                                                                                                                                              |       NA                                                                                                                                                                                                                                                                                                                                                         |\n",
       "| 3 | 28004                                                                                                                                                                                                                                                                                                                                                            | Universidad                                                                                                                                                                                                                                                                                                                                                      | Apartment                                                                                                                                                                                                                                                                                                                                                        | Entire home/apt                                                                                                                                                                                                                                                                                                                                                  | 3                                                                                                                                                                                                                                                                                                                                                                | 1                                                                                                                                                                                                                                                                                                                                                                | 2                                                                                                                                                                                                                                                                                                                                                                |  2                                                                                                                                                                                                                                                                                                                                                               | Real Bed                                                                                                                                                                                                                                                                                                                                                         | TV,Internet,Wireless Internet,Air conditioning,Kitchen,Doorman,Heating,Family/kid friendly,Washer,Essentials,Shampoo,Hangers,Hair dryer,Iron,Laptop friendly workspace                                                                                                                                                                                           |  NA                                                                                                                                                                                                                                                                                                                                                              | 55                                                                                                                                                                                                                                                                                                                                                               |  91                                                                                                                                                                                                                                                                                                                                                              |       NA                                                                                                                                                                                                                                                                                                                                                         |\n",
       "| 4 | 28004                                                                                                                                                                                                                                                                                                                                                            | Universidad                                                                                                                                                                                                                                                                                                                                                      | Loft                                                                                                                                                                                                                                                                                                                                                             | Entire home/apt                                                                                                                                                                                                                                                                                                                                                  | 3                                                                                                                                                                                                                                                                                                                                                                | 2                                                                                                                                                                                                                                                                                                                                                                | 1                                                                                                                                                                                                                                                                                                                                                                |  1                                                                                                                                                                                                                                                                                                                                                               | Real Bed                                                                                                                                                                                                                                                                                                                                                         | TV,Internet,Wireless Internet,Air conditioning,Kitchen,Pets allowed,Breakfast,Elevator in building,Indoor fireplace,Buzzer/wireless intercom,Heating,Washer,Essentials,Shampoo,Hangers,Hair dryer,Iron,Laptop friendly workspace,translation missing: en.hosting_amenity_49,translation missing: en.hosting_amenity_50                                           |  NA                                                                                                                                                                                                                                                                                                                                                              | 60                                                                                                                                                                                                                                                                                                                                                               | 100                                                                                                                                                                                                                                                                                                                                                              |       NA                                                                                                                                                                                                                                                                                                                                                         |\n",
       "| 5 | 28015                                                                                                                                                                                                                                                                                                                                                            | Universidad                                                                                                                                                                                                                                                                                                                                                      | Apartment                                                                                                                                                                                                                                                                                                                                                        | Entire home/apt                                                                                                                                                                                                                                                                                                                                                  | 5                                                                                                                                                                                                                                                                                                                                                                | 1                                                                                                                                                                                                                                                                                                                                                                | 1                                                                                                                                                                                                                                                                                                                                                                |  1                                                                                                                                                                                                                                                                                                                                                               | Real Bed                                                                                                                                                                                                                                                                                                                                                         | TV,Wireless Internet,Air conditioning,Kitchen,Smoking allowed,Pets allowed,Elevator in building,Heating,Family/kid friendly,Washer,Essentials,Iron                                                                                                                                                                                                               | 538                                                                                                                                                                                                                                                                                                                                                              | 75                                                                                                                                                                                                                                                                                                                                                               |  90                                                                                                                                                                                                                                                                                                                                                              | 49.98181                                                                                                                                                                                                                                                                                                                                                         |\n",
       "| 6 | 28004                                                                                                                                                                                                                                                                                                                                                            | Universidad                                                                                                                                                                                                                                                                                                                                                      | Apartment                                                                                                                                                                                                                                                                                                                                                        | Entire home/apt                                                                                                                                                                                                                                                                                                                                                  | 2                                                                                                                                                                                                                                                                                                                                                                | 1                                                                                                                                                                                                                                                                                                                                                                | 0                                                                                                                                                                                                                                                                                                                                                                |  1                                                                                                                                                                                                                                                                                                                                                               | Real Bed                                                                                                                                                                                                                                                                                                                                                         | TV,Cable TV,Internet,Wireless Internet,Air conditioning,Wheelchair accessible,Kitchen,Doorman,Elevator in building,Buzzer/wireless intercom,Heating,Washer,Smoke detector,Carbon monoxide detector,First aid kit,Safety card,Fire extinguisher,Essentials,Shampoo,24-hour check-in,Hangers,Hair dryer,Iron,Laptop friendly workspace,Self Check-In,Doorman Entry |  NA                                                                                                                                                                                                                                                                                                                                                              | 55                                                                                                                                                                                                                                                                                                                                                               |  95                                                                                                                                                                                                                                                                                                                                                              |       NA                                                                                                                                                                                                                                                                                                                                                         |\n",
       "| 8 | 28004                                                                                                                                                                                                                                                                                                                                                            | Universidad                                                                                                                                                                                                                                                                                                                                                      | Apartment                                                                                                                                                                                                                                                                                                                                                        | Entire home/apt                                                                                                                                                                                                                                                                                                                                                  | 3                                                                                                                                                                                                                                                                                                                                                                | 1                                                                                                                                                                                                                                                                                                                                                                | 1                                                                                                                                                                                                                                                                                                                                                                | NA                                                                                                                                                                                                                                                                                                                                                               | Real Bed                                                                                                                                                                                                                                                                                                                                                         | TV,Wireless Internet,Air conditioning,Kitchen,Elevator in building,Buzzer/wireless intercom,Heating,Washer                                                                                                                                                                                                                                                       |  NA                                                                                                                                                                                                                                                                                                                                                              | 70                                                                                                                                                                                                                                                                                                                                                               |  84                                                                                                                                                                                                                                                                                                                                                              |       NA                                                                                                                                                                                                                                                                                                                                                         |\n",
       "\n"
      ],
      "text/plain": [
       "  CodigoPostal Barrio      TipoPropiedad TipoAlquiler    MaxOcupantes NumBanyos\n",
       "2 28004        Universidad Apartment     Entire home/apt 6            1        \n",
       "3 28004        Universidad Apartment     Entire home/apt 3            1        \n",
       "4 28004        Universidad Loft          Entire home/apt 3            2        \n",
       "5 28015        Universidad Apartment     Entire home/apt 5            1        \n",
       "6 28004        Universidad Apartment     Entire home/apt 2            1        \n",
       "8 28004        Universidad Apartment     Entire home/apt 3            1        \n",
       "  NumDormitorios NumCamas TipoCama\n",
       "2 3               5       Real Bed\n",
       "3 2               2       Real Bed\n",
       "4 1               1       Real Bed\n",
       "5 1               1       Real Bed\n",
       "6 0               1       Real Bed\n",
       "8 1              NA       Real Bed\n",
       "  Comodidades                                                                                                                                                                                                                                                                                                                                                     \n",
       "2 TV,Internet,Wireless Internet,Air conditioning,Kitchen,Indoor fireplace,Heating,Family/kid friendly,Washer,Dryer,Smoke detector,Carbon monoxide detector,Essentials,Shampoo                                                                                                                                                                                     \n",
       "3 TV,Internet,Wireless Internet,Air conditioning,Kitchen,Doorman,Heating,Family/kid friendly,Washer,Essentials,Shampoo,Hangers,Hair dryer,Iron,Laptop friendly workspace                                                                                                                                                                                          \n",
       "4 TV,Internet,Wireless Internet,Air conditioning,Kitchen,Pets allowed,Breakfast,Elevator in building,Indoor fireplace,Buzzer/wireless intercom,Heating,Washer,Essentials,Shampoo,Hangers,Hair dryer,Iron,Laptop friendly workspace,translation missing: en.hosting_amenity_49,translation missing: en.hosting_amenity_50                                          \n",
       "5 TV,Wireless Internet,Air conditioning,Kitchen,Smoking allowed,Pets allowed,Elevator in building,Heating,Family/kid friendly,Washer,Essentials,Iron                                                                                                                                                                                                              \n",
       "6 TV,Cable TV,Internet,Wireless Internet,Air conditioning,Wheelchair accessible,Kitchen,Doorman,Elevator in building,Buzzer/wireless intercom,Heating,Washer,Smoke detector,Carbon monoxide detector,First aid kit,Safety card,Fire extinguisher,Essentials,Shampoo,24-hour check-in,Hangers,Hair dryer,Iron,Laptop friendly workspace,Self Check-In,Doorman Entry\n",
       "8 TV,Wireless Internet,Air conditioning,Kitchen,Elevator in building,Buzzer/wireless intercom,Heating,Washer                                                                                                                                                                                                                                                      \n",
       "  PiesCuadrados Precio Puntuacion MetrosCuadrados\n",
       "2  NA           92      96              NA       \n",
       "3  NA           55      91              NA       \n",
       "4  NA           60     100              NA       \n",
       "5 538           75      90        49.98181       \n",
       "6  NA           55      95              NA       \n",
       "8  NA           70      84              NA       "
      ]
     },
     "metadata": {},
     "output_type": "display_data"
    }
   ],
   "source": [
    "airbnb_entire <- airbnb[airbnb$TipoAlquiler == \"Entire home/apt\", ]\n",
    "\n",
    "head(airbnb_entire)"
   ]
  },
  {
   "cell_type": "markdown",
   "metadata": {},
   "source": [
    "¿Cuales son los 5 barrios que tienen un mayor número de apartamentos enteros en alquiler?\n",
    "Nota: Mirar solo en airbnb_entire. A partir de este punto y hasta que se diga lo contrario partiremos de airbnb_entire."
   ]
  },
  {
   "cell_type": "code",
   "execution_count": 18,
   "metadata": {},
   "outputs": [
    {
     "data": {
      "text/html": [
       "<dl class=dl-horizontal>\n",
       "\t<dt>Embajadores</dt>\n",
       "\t\t<dd>1228</dd>\n",
       "\t<dt>Universidad</dt>\n",
       "\t\t<dd>984</dd>\n",
       "\t<dt>Palacio</dt>\n",
       "\t\t<dd>769</dd>\n",
       "\t<dt>Sol</dt>\n",
       "\t\t<dd>701</dd>\n",
       "\t<dt>Cortes</dt>\n",
       "\t\t<dd>574</dd>\n",
       "</dl>\n"
      ],
      "text/latex": [
       "\\begin{description*}\n",
       "\\item[Embajadores] 1228\n",
       "\\item[Universidad] 984\n",
       "\\item[Palacio] 769\n",
       "\\item[Sol] 701\n",
       "\\item[Cortes] 574\n",
       "\\end{description*}\n"
      ],
      "text/markdown": [
       "Embajadores\n",
       ":   1228Universidad\n",
       ":   984Palacio\n",
       ":   769Sol\n",
       ":   701Cortes\n",
       ":   574\n",
       "\n"
      ],
      "text/plain": [
       "Embajadores Universidad     Palacio         Sol      Cortes \n",
       "       1228         984         769         701         574 "
      ]
     },
     "metadata": {},
     "output_type": "display_data"
    }
   ],
   "source": [
    "head(summary(airbnb_entire$Barrio), 5)"
   ]
  },
  {
   "cell_type": "markdown",
   "metadata": {},
   "source": [
    "¿Cuales son los 5 barrios que tienen un mayor precio medio de alquiler para apartamentos enteros (es decir, del dataframe airbnb_entire)?\n",
    "\n",
    "¿Cual es su precio medio?\n",
    "\n",
    "Ayuda: Usa la función aggregate `aggregate(.~colname,df,mean,na.rm=TRUE)`"
   ]
  },
  {
   "cell_type": "code",
   "execution_count": 20,
   "metadata": {},
   "outputs": [
    {
     "name": "stderr",
     "output_type": "stream",
     "text": [
      "Warning message:\n",
      "\"package 'dplyr' was built under R version 3.6.3\"\n",
      "Attaching package: 'dplyr'\n",
      "\n",
      "The following objects are masked from 'package:stats':\n",
      "\n",
      "    filter, lag\n",
      "\n",
      "The following objects are masked from 'package:base':\n",
      "\n",
      "    intersect, setdiff, setequal, union\n",
      "\n"
     ]
    },
    {
     "data": {
      "text/html": [
       "<table>\n",
       "<thead><tr><th scope=col>Barrio</th><th scope=col>Precio</th></tr></thead>\n",
       "<tbody>\n",
       "\t<tr><td>JerÃ³nimos   </td><td>230          </td></tr>\n",
       "\t<tr><td>Castellana   </td><td>190          </td></tr>\n",
       "\t<tr><td>Almagro      </td><td>185          </td></tr>\n",
       "\t<tr><td>Guindalera   </td><td>180          </td></tr>\n",
       "\t<tr><td>Pinar del Rey</td><td>155          </td></tr>\n",
       "</tbody>\n",
       "</table>\n"
      ],
      "text/latex": [
       "\\begin{tabular}{r|ll}\n",
       " Barrio & Precio\\\\\n",
       "\\hline\n",
       "\t JerÃ³nimos    & 230          \\\\\n",
       "\t Castellana    & 190          \\\\\n",
       "\t Almagro       & 185          \\\\\n",
       "\t Guindalera    & 180          \\\\\n",
       "\t Pinar del Rey & 155          \\\\\n",
       "\\end{tabular}\n"
      ],
      "text/markdown": [
       "\n",
       "| Barrio | Precio |\n",
       "|---|---|\n",
       "| JerÃ³nimos    | 230           |\n",
       "| Castellana    | 190           |\n",
       "| Almagro       | 185           |\n",
       "| Guindalera    | 180           |\n",
       "| Pinar del Rey | 155           |\n",
       "\n"
      ],
      "text/plain": [
       "  Barrio        Precio\n",
       "1 JerÃ³nimos    230   \n",
       "2 Castellana    190   \n",
       "3 Almagro       185   \n",
       "4 Guindalera    180   \n",
       "5 Pinar del Rey 155   "
      ]
     },
     "metadata": {},
     "output_type": "display_data"
    }
   ],
   "source": [
    "library(dplyr)\n",
    "top5 <- aggregate(.~Barrio, data = airbnb_entire, mean, na.rm = TRUE)\n",
    "top5 <- arrange(top5[c(\"Barrio\", \"Precio\")], desc(Precio))\n",
    "head(top5, 5)"
   ]
  },
  {
   "cell_type": "markdown",
   "metadata": {},
   "source": [
    "¿Cuantos apartamentos hay en cada uno de esos barrios?\n",
    "\n",
    "Mostrar una dataframe con el nombre del barrio, el precio y el número de entradas.\n",
    "\n",
    "Ayuda: Podeis crear un nuevo dataframe con las columnas \"Barrio\" y \"Freq\" que contenga el número de entradas en cada barrio y hacer un merge con el dataframe del punto anterior."
   ]
  },
  {
   "cell_type": "code",
   "execution_count": 21,
   "metadata": {},
   "outputs": [],
   "source": [
    "top5_freq <- subset(airbnb_entire, Barrio == \"JerÃ³nimos\" | Barrio == \"Castellana\" | Barrio == \"Almagro\" |\n",
    "      Barrio == \"Guindalera\" | Barrio == \"Pinar del Rey\")"
   ]
  },
  {
   "cell_type": "code",
   "execution_count": 22,
   "metadata": {},
   "outputs": [],
   "source": [
    "freq <- unclass(summary(top5_freq$Barrio))\n",
    "freq <- as.data.frame(freq)\n",
    "freq <- cbind(Barrio = rownames(freq), freq)\n",
    "rownames(freq) <- NULL"
   ]
  },
  {
   "cell_type": "code",
   "execution_count": 23,
   "metadata": {},
   "outputs": [
    {
     "data": {
      "text/html": [
       "<table>\n",
       "<thead><tr><th scope=col>Barrio</th><th scope=col>Precio</th><th scope=col>freq</th></tr></thead>\n",
       "<tbody>\n",
       "\t<tr><td>Almagro      </td><td>185          </td><td>97           </td></tr>\n",
       "\t<tr><td>Castellana   </td><td>190          </td><td>73           </td></tr>\n",
       "\t<tr><td>Guindalera   </td><td>180          </td><td>82           </td></tr>\n",
       "\t<tr><td>JerÃ³nimos   </td><td>230          </td><td>62           </td></tr>\n",
       "\t<tr><td>Pinar del Rey</td><td>155          </td><td> 9           </td></tr>\n",
       "</tbody>\n",
       "</table>\n"
      ],
      "text/latex": [
       "\\begin{tabular}{r|lll}\n",
       " Barrio & Precio & freq\\\\\n",
       "\\hline\n",
       "\t Almagro       & 185           & 97           \\\\\n",
       "\t Castellana    & 190           & 73           \\\\\n",
       "\t Guindalera    & 180           & 82           \\\\\n",
       "\t JerÃ³nimos    & 230           & 62           \\\\\n",
       "\t Pinar del Rey & 155           &  9           \\\\\n",
       "\\end{tabular}\n"
      ],
      "text/markdown": [
       "\n",
       "| Barrio | Precio | freq |\n",
       "|---|---|---|\n",
       "| Almagro       | 185           | 97            |\n",
       "| Castellana    | 190           | 73            |\n",
       "| Guindalera    | 180           | 82            |\n",
       "| JerÃ³nimos    | 230           | 62            |\n",
       "| Pinar del Rey | 155           |  9            |\n",
       "\n"
      ],
      "text/plain": [
       "  Barrio        Precio freq\n",
       "1 Almagro       185    97  \n",
       "2 Castellana    190    73  \n",
       "3 Guindalera    180    82  \n",
       "4 JerÃ³nimos    230    62  \n",
       "5 Pinar del Rey 155     9  "
      ]
     },
     "metadata": {},
     "output_type": "display_data"
    }
   ],
   "source": [
    "merge(head(top5, 5), freq, by = \"Barrio\")"
   ]
  },
  {
   "cell_type": "markdown",
   "metadata": {},
   "source": [
    "Partiendo del dataframe anterior, muestra los 5 barrios con mayor precio, pero que tengan más de 100 entradas de alquiler."
   ]
  },
  {
   "cell_type": "code",
   "execution_count": 24,
   "metadata": {},
   "outputs": [],
   "source": [
    "freq <- unclass(summary(airbnb_entire$Barrio))\n",
    "freq <- as.data.frame(freq, check.names = FALSE, stringsAsFactors = TRUE)\n",
    "freq <- cbind(Barrio = rownames(freq), freq)\n",
    "rownames(freq) <- NULL"
   ]
  },
  {
   "cell_type": "code",
   "execution_count": 25,
   "metadata": {},
   "outputs": [],
   "source": [
    "df <- merge(top5, freq, by = \"Barrio\")"
   ]
  },
  {
   "cell_type": "code",
   "execution_count": 26,
   "metadata": {},
   "outputs": [
    {
     "data": {
      "text/html": [
       "<table>\n",
       "<thead><tr><th scope=col>Barrio</th><th scope=col>Precio</th><th scope=col>freq</th></tr></thead>\n",
       "<tbody>\n",
       "\t<tr><td>Justicia </td><td>110.80000</td><td>534      </td></tr>\n",
       "\t<tr><td>Trafalgar</td><td>104.60000</td><td>223      </td></tr>\n",
       "\t<tr><td>Sol      </td><td> 97.54237</td><td>701      </td></tr>\n",
       "\t<tr><td>Cortes   </td><td> 91.46429</td><td>574      </td></tr>\n",
       "\t<tr><td>Goya     </td><td> 89.66667</td><td>142      </td></tr>\n",
       "</tbody>\n",
       "</table>\n"
      ],
      "text/latex": [
       "\\begin{tabular}{r|lll}\n",
       " Barrio & Precio & freq\\\\\n",
       "\\hline\n",
       "\t Justicia  & 110.80000 & 534      \\\\\n",
       "\t Trafalgar & 104.60000 & 223      \\\\\n",
       "\t Sol       &  97.54237 & 701      \\\\\n",
       "\t Cortes    &  91.46429 & 574      \\\\\n",
       "\t Goya      &  89.66667 & 142      \\\\\n",
       "\\end{tabular}\n"
      ],
      "text/markdown": [
       "\n",
       "| Barrio | Precio | freq |\n",
       "|---|---|---|\n",
       "| Justicia  | 110.80000 | 534       |\n",
       "| Trafalgar | 104.60000 | 223       |\n",
       "| Sol       |  97.54237 | 701       |\n",
       "| Cortes    |  91.46429 | 574       |\n",
       "| Goya      |  89.66667 | 142       |\n",
       "\n"
      ],
      "text/plain": [
       "  Barrio    Precio    freq\n",
       "1 Justicia  110.80000 534 \n",
       "2 Trafalgar 104.60000 223 \n",
       "3 Sol        97.54237 701 \n",
       "4 Cortes     91.46429 574 \n",
       "5 Goya       89.66667 142 "
      ]
     },
     "metadata": {},
     "output_type": "display_data"
    }
   ],
   "source": [
    "df <- df[df$freq > 100, ]\n",
    "head(arrange(df[df$freq > 100, ], desc(Precio)), 5)"
   ]
  },
  {
   "cell_type": "markdown",
   "metadata": {},
   "source": [
    "Dibuja el diagrama de densidad de distribución de los diferentes precios. Serían 5 gráficas, una por cada barrio."
   ]
  },
  {
   "cell_type": "code",
   "execution_count": 27,
   "metadata": {},
   "outputs": [
    {
     "name": "stderr",
     "output_type": "stream",
     "text": [
      "Warning message:\n",
      "\"Removed 7 rows containing non-finite values (stat_density).\"Warning message:\n",
      "\"Removed 7 rows containing non-finite values (stat_density).\""
     ]
    },
    {
     "data": {
      "image/png": "[encoded data removed]",
      "text/plain": [
       "plot without title"
      ]
     },
     "metadata": {},
     "output_type": "display_data"
    },
    {
     "name": "stderr",
     "output_type": "stream",
     "text": [
      "Warning message:\n",
      "\"Removed 7 rows containing non-finite values (stat_density).\""
     ]
    },
    {
     "data": {
      "image/png": "[encoded data removed]",
      "text/plain": [
       "plot without title"
      ]
     },
     "metadata": {},
     "output_type": "display_data"
    },
    {
     "name": "stderr",
     "output_type": "stream",
     "text": [
      "Warning message:\n",
      "\"Removed 7 rows containing non-finite values (stat_density).\""
     ]
    },
    {
     "data": {
      "image/png": "[encoded data removed]",
      "text/plain": [
       "plot without title"
      ]
     },
     "metadata": {},
     "output_type": "display_data"
    },
    {
     "name": "stderr",
     "output_type": "stream",
     "text": [
      "Warning message:\n",
      "\"Removed 7 rows containing non-finite values (stat_density).\""
     ]
    },
    {
     "data": {
      "image/png": "[encoded data removed]",
      "text/plain": [
       "plot without title"
      ]
     },
     "metadata": {},
     "output_type": "display_data"
    },
    {
     "data": {
      "image/png": "[encoded data removed]",
      "text/plain": [
       "plot without title"
      ]
     },
     "metadata": {},
     "output_type": "display_data"
    }
   ],
   "source": [
    "justicia = subset(airbnb_entire, Barrio = \"Justicia\")\n",
    "trafalgar = subset(airbnb_entire, Barrio = \"Trafalgar\")\n",
    "sol = subset(airbnb_entire, Barrio = \"Sol\")\n",
    "cortes = subset(airbnb_entire, Barrio = \"Cortes\")\n",
    "goya = subset(airbnb_entire, Barrio = \"Goya\")\n",
    "\n",
    "ggplot(data = justicia, aes(x = Precio)) + geom_density()\n",
    "ggplot(data = trafalgar, aes(x = Precio)) + geom_density()\n",
    "ggplot(data = sol, aes(x = Precio)) + geom_density()\n",
    "ggplot(data = cortes, aes(x = Precio)) + geom_density()\n",
    "ggplot(data = goya, aes(x = Precio)) + geom_density()"
   ]
  },
  {
   "cell_type": "markdown",
   "metadata": {},
   "source": [
    "Calcula el tamaño medio, en metros cuadrados, para los 5 barrios anteriores y muestralo en el mismo dataframe junto con el precio y número de entradas"
   ]
  },
  {
   "cell_type": "code",
   "execution_count": 28,
   "metadata": {},
   "outputs": [
    {
     "data": {
      "text/html": [
       "<table>\n",
       "<thead><tr><th scope=col>Barrio</th><th scope=col>Precio</th><th scope=col>freq</th><th scope=col>MetrosCuadrados</th></tr></thead>\n",
       "<tbody>\n",
       "\t<tr><td>Justicia </td><td>110.80000</td><td>534      </td><td>27.66651 </td></tr>\n",
       "\t<tr><td>Trafalgar</td><td>104.60000</td><td>223      </td><td>41.02596 </td></tr>\n",
       "\t<tr><td>Sol      </td><td> 97.54237</td><td>701      </td><td>44.35567 </td></tr>\n",
       "\t<tr><td>Cortes   </td><td> 91.46429</td><td>574      </td><td>13.99186 </td></tr>\n",
       "\t<tr><td>Goya     </td><td> 89.66667</td><td>142      </td><td>51.68504 </td></tr>\n",
       "</tbody>\n",
       "</table>\n"
      ],
      "text/latex": [
       "\\begin{tabular}{r|llll}\n",
       " Barrio & Precio & freq & MetrosCuadrados\\\\\n",
       "\\hline\n",
       "\t Justicia  & 110.80000 & 534       & 27.66651 \\\\\n",
       "\t Trafalgar & 104.60000 & 223       & 41.02596 \\\\\n",
       "\t Sol       &  97.54237 & 701       & 44.35567 \\\\\n",
       "\t Cortes    &  91.46429 & 574       & 13.99186 \\\\\n",
       "\t Goya      &  89.66667 & 142       & 51.68504 \\\\\n",
       "\\end{tabular}\n"
      ],
      "text/markdown": [
       "\n",
       "| Barrio | Precio | freq | MetrosCuadrados |\n",
       "|---|---|---|---|\n",
       "| Justicia  | 110.80000 | 534       | 27.66651  |\n",
       "| Trafalgar | 104.60000 | 223       | 41.02596  |\n",
       "| Sol       |  97.54237 | 701       | 44.35567  |\n",
       "| Cortes    |  91.46429 | 574       | 13.99186  |\n",
       "| Goya      |  89.66667 | 142       | 51.68504  |\n",
       "\n"
      ],
      "text/plain": [
       "  Barrio    Precio    freq MetrosCuadrados\n",
       "1 Justicia  110.80000 534  27.66651       \n",
       "2 Trafalgar 104.60000 223  41.02596       \n",
       "3 Sol        97.54237 701  44.35567       \n",
       "4 Cortes     91.46429 574  13.99186       \n",
       "5 Goya       89.66667 142  51.68504       "
      ]
     },
     "metadata": {},
     "output_type": "display_data"
    }
   ],
   "source": [
    "top5_size <- subset(airbnb_entire, Barrio == \"Justicia\" | Barrio == \"Trafalgar\" | Barrio == \"Sol\" |\n",
    "      Barrio == \"Cortes\" | Barrio == \"Goya\")\n",
    "top5_size <- aggregate(.~Barrio, data = top5_size, mean, na.rm = TRUE)\n",
    "top5_size <- top5_size[c(\"Barrio\", \"MetrosCuadrados\")]\n",
    "df_size <- merge(df, top5_size, by = \"Barrio\")\n",
    "arrange(df_size[c(\"Barrio\", \"Precio\", \"freq\", \"MetrosCuadrados\")], desc(Precio))"
   ]
  },
  {
   "cell_type": "markdown",
   "metadata": {},
   "source": [
    "Dibuja el diagrama de densidad de distribución de los diferentes tamaños de apartamentos. Serían 5 gráficas, una por cada barrio."
   ]
  },
  {
   "cell_type": "code",
   "execution_count": 29,
   "metadata": {},
   "outputs": [
    {
     "name": "stderr",
     "output_type": "stream",
     "text": [
      "Warning message:\n",
      "\"Removed 7546 rows containing non-finite values (stat_density).\"Warning message:\n",
      "\"Removed 7546 rows containing non-finite values (stat_density).\""
     ]
    },
    {
     "data": {
      "image/png": "[encoded data removed]",
      "text/plain": [
       "plot without title"
      ]
     },
     "metadata": {},
     "output_type": "display_data"
    },
    {
     "name": "stderr",
     "output_type": "stream",
     "text": [
      "Warning message:\n",
      "\"Removed 7546 rows containing non-finite values (stat_density).\""
     ]
    },
    {
     "data": {
      "image/png": "[encoded data removed]",
      "text/plain": [
       "plot without title"
      ]
     },
     "metadata": {},
     "output_type": "display_data"
    },
    {
     "name": "stderr",
     "output_type": "stream",
     "text": [
      "Warning message:\n",
      "\"Removed 7546 rows containing non-finite values (stat_density).\""
     ]
    },
    {
     "data": {
      "image/png": "[encoded data removed]",
      "text/plain": [
       "plot without title"
      ]
     },
     "metadata": {},
     "output_type": "display_data"
    },
    {
     "name": "stderr",
     "output_type": "stream",
     "text": [
      "Warning message:\n",
      "\"Removed 7546 rows containing non-finite values (stat_density).\""
     ]
    },
    {
     "data": {
      "image/png": "[encoded data removed]",
      "text/plain": [
       "plot without title"
      ]
     },
     "metadata": {},
     "output_type": "display_data"
    },
    {
     "data": {
      "image/png": "[encoded data removed]",
      "text/plain": [
       "plot without title"
      ]
     },
     "metadata": {},
     "output_type": "display_data"
    }
   ],
   "source": [
    "ggplot(data = justicia, aes(x = MetrosCuadrados)) + geom_density()\n",
    "ggplot(data = trafalgar, aes(x = MetrosCuadrados)) + geom_density()\n",
    "ggplot(data = sol, aes(x = MetrosCuadrados)) + geom_density()\n",
    "ggplot(data = cortes, aes(x = MetrosCuadrados)) + geom_density()\n",
    "ggplot(data = goya, aes(x = MetrosCuadrados)) + geom_density()"
   ]
  },
  {
   "cell_type": "markdown",
   "metadata": {},
   "source": [
    "Esta claro que las medias de cada uno de estos 5 barrios parecen ser diferentes, pero ¿son estadísticamente diferentes?\n",
    "¿Que test habría que usar para comprobarlo?"
   ]
  },
  {
   "cell_type": "code",
   "execution_count": 30,
   "metadata": {},
   "outputs": [
    {
     "name": "stdout",
     "output_type": "stream",
     "text": [
      "[1] \"Barrio  Cortes pvalue, 0.000887629110191283\"\n",
      "[1] \"Barrio  Goya pvalue, 0.519924091564745\"\n",
      "[1] \"Barrio  Justicia pvalue, 0.00224907884340134\"\n",
      "[1] \"Barrio  Sol pvalue, 0.00512707497781802\"\n",
      "[1] \"Barrio  Trafalgar pvalue, 0.676717665882729\"\n"
     ]
    },
    {
     "data": {
      "text/plain": [
       "\n",
       "\tKruskal-Wallis rank sum test\n",
       "\n",
       "data:  MetrosCuadrados by Barrio\n",
       "Kruskal-Wallis chi-squared = 8.4005, df = 4, p-value = 0.07796\n"
      ]
     },
     "metadata": {},
     "output_type": "display_data"
    }
   ],
   "source": [
    "df <- subset(airbnb_entire, Barrio == \"Justicia\" | Barrio == \"Trafalgar\" | Barrio == \"Sol\" |\n",
    "      Barrio == \"Cortes\" | Barrio == \"Goya\")\n",
    "\n",
    "for (v in levels(droplevels(df$Barrio))) {\n",
    "    print(paste(\"Barrio \", v, \"pvalue,\",\n",
    "                shapiro.test(sample(df$MetrosCuadrados[df$Barrio == v], 142))$p.value)) \n",
    "}\n",
    "\n",
    "kruskal.test(MetrosCuadrados ~ Barrio, data = df)"
   ]
  },
  {
   "cell_type": "markdown",
   "metadata": {},
   "source": [
    "En este caso las medias no son estadísticamente diferentes"
   ]
  },
  {
   "cell_type": "markdown",
   "metadata": {},
   "source": [
    "Para únicamente los pisos de alquiler en el barrio de Sol:\n",
    "\n",
    "``barrio_sol<-subset(airbnb_entire,Barrio==\"Sol\")``\n",
    "\n",
    "Calcular un modelo lineal que combine alguna de estas variables:\n",
    "* NumBanyos\n",
    "* NumDormitorios\n",
    "* MaxOcupantes\n",
    "* MetrosCuadrados"
   ]
  },
  {
   "cell_type": "code",
   "execution_count": 31,
   "metadata": {},
   "outputs": [
    {
     "data": {
      "text/html": [
       "<table>\n",
       "<thead><tr><th></th><th scope=col>CodigoPostal</th><th scope=col>Barrio</th><th scope=col>TipoPropiedad</th><th scope=col>TipoAlquiler</th><th scope=col>MaxOcupantes</th><th scope=col>NumBanyos</th><th scope=col>NumDormitorios</th><th scope=col>NumCamas</th><th scope=col>TipoCama</th><th scope=col>Comodidades</th><th scope=col>PiesCuadrados</th><th scope=col>Precio</th><th scope=col>Puntuacion</th><th scope=col>MetrosCuadrados</th></tr></thead>\n",
       "<tbody>\n",
       "\t<tr><th scope=row>15</th><td>28013                                                                                                                                                                                                                                                                                                                    </td><td>Sol                                                                                                                                                                                                                                                                                                                      </td><td>Apartment                                                                                                                                                                                                                                                                                                                </td><td>Entire home/apt                                                                                                                                                                                                                                                                                                          </td><td>4                                                                                                                                                                                                                                                                                                                        </td><td>1                                                                                                                                                                                                                                                                                                                        </td><td>1                                                                                                                                                                                                                                                                                                                        </td><td>1                                                                                                                                                                                                                                                                                                                        </td><td>Real Bed                                                                                                                                                                                                                                                                                                                 </td><td>TV,Wireless Internet,Air conditioning,Kitchen,Doorman,Elevator in building,Buzzer/wireless intercom,Heating,Family/kid friendly,Suitable for events,Washer,Essentials,Hangers,Hair dryer,Iron                                                                                                                            </td><td>646                                                                                                                                                                                                                                                                                                                      </td><td> 75                                                                                                                                                                                                                                                                                                                      </td><td> 91                                                                                                                                                                                                                                                                                                                      </td><td>60.01534                                                                                                                                                                                                                                                                                                                 </td></tr>\n",
       "\t<tr><th scope=row>16</th><td>28013                                                                                                                                                                                                                                                                                                                    </td><td>Sol                                                                                                                                                                                                                                                                                                                      </td><td>Condominium                                                                                                                                                                                                                                                                                                              </td><td>Entire home/apt                                                                                                                                                                                                                                                                                                          </td><td>6                                                                                                                                                                                                                                                                                                                        </td><td>1                                                                                                                                                                                                                                                                                                                        </td><td>2                                                                                                                                                                                                                                                                                                                        </td><td>3                                                                                                                                                                                                                                                                                                                        </td><td>Real Bed                                                                                                                                                                                                                                                                                                                 </td><td>TV,Wireless Internet,Air conditioning,Kitchen,Doorman,Elevator in building,Buzzer/wireless intercom,Heating,Family/kid friendly,Washer,Dryer,Essentials,Shampoo,Hangers,Hair dryer,Iron                                                                                                                                  </td><td> NA                                                                                                                                                                                                                                                                                                                      </td><td>130                                                                                                                                                                                                                                                                                                                      </td><td>100                                                                                                                                                                                                                                                                                                                      </td><td>      NA                                                                                                                                                                                                                                                                                                                 </td></tr>\n",
       "\t<tr><th scope=row>17</th><td>28013                                                                                                                                                                                                                                                                                                                    </td><td>Sol                                                                                                                                                                                                                                                                                                                      </td><td>Apartment                                                                                                                                                                                                                                                                                                                </td><td>Entire home/apt                                                                                                                                                                                                                                                                                                          </td><td>4                                                                                                                                                                                                                                                                                                                        </td><td>1                                                                                                                                                                                                                                                                                                                        </td><td>1                                                                                                                                                                                                                                                                                                                        </td><td>2                                                                                                                                                                                                                                                                                                                        </td><td>Real Bed                                                                                                                                                                                                                                                                                                                 </td><td>TV,Internet,Wireless Internet,Air conditioning,Kitchen,Doorman,Elevator in building,Buzzer/wireless intercom,Heating,Family/kid friendly,Washer,Smoke detector,Carbon monoxide detector,First aid kit,Safety card,Fire extinguisher,Essentials,Shampoo,24-hour check-in,Hangers,Hair dryer,Iron,Laptop friendly workspace</td><td> NA                                                                                                                                                                                                                                                                                                                      </td><td>100                                                                                                                                                                                                                                                                                                                      </td><td> 97                                                                                                                                                                                                                                                                                                                      </td><td>      NA                                                                                                                                                                                                                                                                                                                 </td></tr>\n",
       "\t<tr><th scope=row>18</th><td>28012                                                                                                                                                                                                                                                                                                                    </td><td>Sol                                                                                                                                                                                                                                                                                                                      </td><td>Apartment                                                                                                                                                                                                                                                                                                                </td><td>Entire home/apt                                                                                                                                                                                                                                                                                                          </td><td>6                                                                                                                                                                                                                                                                                                                        </td><td>1                                                                                                                                                                                                                                                                                                                        </td><td>2                                                                                                                                                                                                                                                                                                                        </td><td>2                                                                                                                                                                                                                                                                                                                        </td><td>Real Bed                                                                                                                                                                                                                                                                                                                 </td><td>TV,Internet,Wireless Internet,Air conditioning,Kitchen,Smoking allowed,Elevator in building,Buzzer/wireless intercom,Heating,Family/kid friendly,Washer,Dryer,Essentials,Shampoo,Hangers,Hair dryer,Iron,Laptop friendly workspace                                                                                       </td><td> NA                                                                                                                                                                                                                                                                                                                      </td><td>160                                                                                                                                                                                                                                                                                                                      </td><td> 95                                                                                                                                                                                                                                                                                                                      </td><td>      NA                                                                                                                                                                                                                                                                                                                 </td></tr>\n",
       "\t<tr><th scope=row>19</th><td>28013                                                                                                                                                                                                                                                                                                                    </td><td>Sol                                                                                                                                                                                                                                                                                                                      </td><td>Apartment                                                                                                                                                                                                                                                                                                                </td><td>Entire home/apt                                                                                                                                                                                                                                                                                                          </td><td>4                                                                                                                                                                                                                                                                                                                        </td><td>1                                                                                                                                                                                                                                                                                                                        </td><td>1                                                                                                                                                                                                                                                                                                                        </td><td>2                                                                                                                                                                                                                                                                                                                        </td><td>Real Bed                                                                                                                                                                                                                                                                                                                 </td><td>TV,Internet,Wireless Internet,Air conditioning,Kitchen,Heating,Washer,Essentials,Hangers,Hair dryer,translation missing: en.hosting_amenity_50                                                                                                                                                                           </td><td> NA                                                                                                                                                                                                                                                                                                                      </td><td> 49                                                                                                                                                                                                                                                                                                                      </td><td> 95                                                                                                                                                                                                                                                                                                                      </td><td>      NA                                                                                                                                                                                                                                                                                                                 </td></tr>\n",
       "\t<tr><th scope=row>21</th><td>28013                                                                                                                                                                                                                                                                                                                    </td><td>Sol                                                                                                                                                                                                                                                                                                                      </td><td>Apartment                                                                                                                                                                                                                                                                                                                </td><td>Entire home/apt                                                                                                                                                                                                                                                                                                          </td><td>4                                                                                                                                                                                                                                                                                                                        </td><td>1                                                                                                                                                                                                                                                                                                                        </td><td>1                                                                                                                                                                                                                                                                                                                        </td><td>2                                                                                                                                                                                                                                                                                                                        </td><td>Real Bed                                                                                                                                                                                                                                                                                                                 </td><td>TV,Wireless Internet,Kitchen,Pets allowed,Elevator in building,Heating,Family/kid friendly,Washer,Essentials,Shampoo,Hangers,Hair dryer,Laptop friendly workspace                                                                                                                                                        </td><td> NA                                                                                                                                                                                                                                                                                                                      </td><td> 70                                                                                                                                                                                                                                                                                                                      </td><td> 88                                                                                                                                                                                                                                                                                                                      </td><td>      NA                                                                                                                                                                                                                                                                                                                 </td></tr>\n",
       "</tbody>\n",
       "</table>\n"
      ],
      "text/latex": [
       "\\begin{tabular}{r|llllllllllllll}\n",
       "  & CodigoPostal & Barrio & TipoPropiedad & TipoAlquiler & MaxOcupantes & NumBanyos & NumDormitorios & NumCamas & TipoCama & Comodidades & PiesCuadrados & Precio & Puntuacion & MetrosCuadrados\\\\\n",
       "\\hline\n",
       "\t15 & 28013                                                                                                                                                                                                                                                                                                                     & Sol                                                                                                                                                                                                                                                                                                                       & Apartment                                                                                                                                                                                                                                                                                                                 & Entire home/apt                                                                                                                                                                                                                                                                                                           & 4                                                                                                                                                                                                                                                                                                                         & 1                                                                                                                                                                                                                                                                                                                         & 1                                                                                                                                                                                                                                                                                                                         & 1                                                                                                                                                                                                                                                                                                                         & Real Bed                                                                                                                                                                                                                                                                                                                  & TV,Wireless Internet,Air conditioning,Kitchen,Doorman,Elevator in building,Buzzer/wireless intercom,Heating,Family/kid friendly,Suitable for events,Washer,Essentials,Hangers,Hair dryer,Iron                                                                                                                             & 646                                                                                                                                                                                                                                                                                                                       &  75                                                                                                                                                                                                                                                                                                                       &  91                                                                                                                                                                                                                                                                                                                       & 60.01534                                                                                                                                                                                                                                                                                                                 \\\\\n",
       "\t16 & 28013                                                                                                                                                                                                                                                                                                                     & Sol                                                                                                                                                                                                                                                                                                                       & Condominium                                                                                                                                                                                                                                                                                                               & Entire home/apt                                                                                                                                                                                                                                                                                                           & 6                                                                                                                                                                                                                                                                                                                         & 1                                                                                                                                                                                                                                                                                                                         & 2                                                                                                                                                                                                                                                                                                                         & 3                                                                                                                                                                                                                                                                                                                         & Real Bed                                                                                                                                                                                                                                                                                                                  & TV,Wireless Internet,Air conditioning,Kitchen,Doorman,Elevator in building,Buzzer/wireless intercom,Heating,Family/kid friendly,Washer,Dryer,Essentials,Shampoo,Hangers,Hair dryer,Iron                                                                                                                                   &  NA                                                                                                                                                                                                                                                                                                                       & 130                                                                                                                                                                                                                                                                                                                       & 100                                                                                                                                                                                                                                                                                                                       &       NA                                                                                                                                                                                                                                                                                                                 \\\\\n",
       "\t17 & 28013                                                                                                                                                                                                                                                                                                                     & Sol                                                                                                                                                                                                                                                                                                                       & Apartment                                                                                                                                                                                                                                                                                                                 & Entire home/apt                                                                                                                                                                                                                                                                                                           & 4                                                                                                                                                                                                                                                                                                                         & 1                                                                                                                                                                                                                                                                                                                         & 1                                                                                                                                                                                                                                                                                                                         & 2                                                                                                                                                                                                                                                                                                                         & Real Bed                                                                                                                                                                                                                                                                                                                  & TV,Internet,Wireless Internet,Air conditioning,Kitchen,Doorman,Elevator in building,Buzzer/wireless intercom,Heating,Family/kid friendly,Washer,Smoke detector,Carbon monoxide detector,First aid kit,Safety card,Fire extinguisher,Essentials,Shampoo,24-hour check-in,Hangers,Hair dryer,Iron,Laptop friendly workspace &  NA                                                                                                                                                                                                                                                                                                                       & 100                                                                                                                                                                                                                                                                                                                       &  97                                                                                                                                                                                                                                                                                                                       &       NA                                                                                                                                                                                                                                                                                                                 \\\\\n",
       "\t18 & 28012                                                                                                                                                                                                                                                                                                                     & Sol                                                                                                                                                                                                                                                                                                                       & Apartment                                                                                                                                                                                                                                                                                                                 & Entire home/apt                                                                                                                                                                                                                                                                                                           & 6                                                                                                                                                                                                                                                                                                                         & 1                                                                                                                                                                                                                                                                                                                         & 2                                                                                                                                                                                                                                                                                                                         & 2                                                                                                                                                                                                                                                                                                                         & Real Bed                                                                                                                                                                                                                                                                                                                  & TV,Internet,Wireless Internet,Air conditioning,Kitchen,Smoking allowed,Elevator in building,Buzzer/wireless intercom,Heating,Family/kid friendly,Washer,Dryer,Essentials,Shampoo,Hangers,Hair dryer,Iron,Laptop friendly workspace                                                                                        &  NA                                                                                                                                                                                                                                                                                                                       & 160                                                                                                                                                                                                                                                                                                                       &  95                                                                                                                                                                                                                                                                                                                       &       NA                                                                                                                                                                                                                                                                                                                 \\\\\n",
       "\t19 & 28013                                                                                                                                                                                                                                                                                                                         & Sol                                                                                                                                                                                                                                                                                                                           & Apartment                                                                                                                                                                                                                                                                                                                     & Entire home/apt                                                                                                                                                                                                                                                                                                               & 4                                                                                                                                                                                                                                                                                                                             & 1                                                                                                                                                                                                                                                                                                                             & 1                                                                                                                                                                                                                                                                                                                             & 2                                                                                                                                                                                                                                                                                                                             & Real Bed                                                                                                                                                                                                                                                                                                                      & TV,Internet,Wireless Internet,Air conditioning,Kitchen,Heating,Washer,Essentials,Hangers,Hair dryer,translation missing: en.hosting\\_amenity\\_50                                                                                                                                                                            &  NA                                                                                                                                                                                                                                                                                                                           &  49                                                                                                                                                                                                                                                                                                                           &  95                                                                                                                                                                                                                                                                                                                           &       NA                                                                                                                                                                                                                                                                                                                     \\\\\n",
       "\t21 & 28013                                                                                                                                                                                                                                                                                                                     & Sol                                                                                                                                                                                                                                                                                                                       & Apartment                                                                                                                                                                                                                                                                                                                 & Entire home/apt                                                                                                                                                                                                                                                                                                           & 4                                                                                                                                                                                                                                                                                                                         & 1                                                                                                                                                                                                                                                                                                                         & 1                                                                                                                                                                                                                                                                                                                         & 2                                                                                                                                                                                                                                                                                                                         & Real Bed                                                                                                                                                                                                                                                                                                                  & TV,Wireless Internet,Kitchen,Pets allowed,Elevator in building,Heating,Family/kid friendly,Washer,Essentials,Shampoo,Hangers,Hair dryer,Laptop friendly workspace                                                                                                                                                         &  NA                                                                                                                                                                                                                                                                                                                       &  70                                                                                                                                                                                                                                                                                                                       &  88                                                                                                                                                                                                                                                                                                                       &       NA                                                                                                                                                                                                                                                                                                                 \\\\\n",
       "\\end{tabular}\n"
      ],
      "text/markdown": [
       "\n",
       "| <!--/--> | CodigoPostal | Barrio | TipoPropiedad | TipoAlquiler | MaxOcupantes | NumBanyos | NumDormitorios | NumCamas | TipoCama | Comodidades | PiesCuadrados | Precio | Puntuacion | MetrosCuadrados |\n",
       "|---|---|---|---|---|---|---|---|---|---|---|---|---|---|---|\n",
       "| 15 | 28013                                                                                                                                                                                                                                                                                                                     | Sol                                                                                                                                                                                                                                                                                                                       | Apartment                                                                                                                                                                                                                                                                                                                 | Entire home/apt                                                                                                                                                                                                                                                                                                           | 4                                                                                                                                                                                                                                                                                                                         | 1                                                                                                                                                                                                                                                                                                                         | 1                                                                                                                                                                                                                                                                                                                         | 1                                                                                                                                                                                                                                                                                                                         | Real Bed                                                                                                                                                                                                                                                                                                                  | TV,Wireless Internet,Air conditioning,Kitchen,Doorman,Elevator in building,Buzzer/wireless intercom,Heating,Family/kid friendly,Suitable for events,Washer,Essentials,Hangers,Hair dryer,Iron                                                                                                                             | 646                                                                                                                                                                                                                                                                                                                       |  75                                                                                                                                                                                                                                                                                                                       |  91                                                                                                                                                                                                                                                                                                                       | 60.01534                                                                                                                                                                                                                                                                                                                  |\n",
       "| 16 | 28013                                                                                                                                                                                                                                                                                                                     | Sol                                                                                                                                                                                                                                                                                                                       | Condominium                                                                                                                                                                                                                                                                                                               | Entire home/apt                                                                                                                                                                                                                                                                                                           | 6                                                                                                                                                                                                                                                                                                                         | 1                                                                                                                                                                                                                                                                                                                         | 2                                                                                                                                                                                                                                                                                                                         | 3                                                                                                                                                                                                                                                                                                                         | Real Bed                                                                                                                                                                                                                                                                                                                  | TV,Wireless Internet,Air conditioning,Kitchen,Doorman,Elevator in building,Buzzer/wireless intercom,Heating,Family/kid friendly,Washer,Dryer,Essentials,Shampoo,Hangers,Hair dryer,Iron                                                                                                                                   |  NA                                                                                                                                                                                                                                                                                                                       | 130                                                                                                                                                                                                                                                                                                                       | 100                                                                                                                                                                                                                                                                                                                       |       NA                                                                                                                                                                                                                                                                                                                  |\n",
       "| 17 | 28013                                                                                                                                                                                                                                                                                                                     | Sol                                                                                                                                                                                                                                                                                                                       | Apartment                                                                                                                                                                                                                                                                                                                 | Entire home/apt                                                                                                                                                                                                                                                                                                           | 4                                                                                                                                                                                                                                                                                                                         | 1                                                                                                                                                                                                                                                                                                                         | 1                                                                                                                                                                                                                                                                                                                         | 2                                                                                                                                                                                                                                                                                                                         | Real Bed                                                                                                                                                                                                                                                                                                                  | TV,Internet,Wireless Internet,Air conditioning,Kitchen,Doorman,Elevator in building,Buzzer/wireless intercom,Heating,Family/kid friendly,Washer,Smoke detector,Carbon monoxide detector,First aid kit,Safety card,Fire extinguisher,Essentials,Shampoo,24-hour check-in,Hangers,Hair dryer,Iron,Laptop friendly workspace |  NA                                                                                                                                                                                                                                                                                                                       | 100                                                                                                                                                                                                                                                                                                                       |  97                                                                                                                                                                                                                                                                                                                       |       NA                                                                                                                                                                                                                                                                                                                  |\n",
       "| 18 | 28012                                                                                                                                                                                                                                                                                                                     | Sol                                                                                                                                                                                                                                                                                                                       | Apartment                                                                                                                                                                                                                                                                                                                 | Entire home/apt                                                                                                                                                                                                                                                                                                           | 6                                                                                                                                                                                                                                                                                                                         | 1                                                                                                                                                                                                                                                                                                                         | 2                                                                                                                                                                                                                                                                                                                         | 2                                                                                                                                                                                                                                                                                                                         | Real Bed                                                                                                                                                                                                                                                                                                                  | TV,Internet,Wireless Internet,Air conditioning,Kitchen,Smoking allowed,Elevator in building,Buzzer/wireless intercom,Heating,Family/kid friendly,Washer,Dryer,Essentials,Shampoo,Hangers,Hair dryer,Iron,Laptop friendly workspace                                                                                        |  NA                                                                                                                                                                                                                                                                                                                       | 160                                                                                                                                                                                                                                                                                                                       |  95                                                                                                                                                                                                                                                                                                                       |       NA                                                                                                                                                                                                                                                                                                                  |\n",
       "| 19 | 28013                                                                                                                                                                                                                                                                                                                     | Sol                                                                                                                                                                                                                                                                                                                       | Apartment                                                                                                                                                                                                                                                                                                                 | Entire home/apt                                                                                                                                                                                                                                                                                                           | 4                                                                                                                                                                                                                                                                                                                         | 1                                                                                                                                                                                                                                                                                                                         | 1                                                                                                                                                                                                                                                                                                                         | 2                                                                                                                                                                                                                                                                                                                         | Real Bed                                                                                                                                                                                                                                                                                                                  | TV,Internet,Wireless Internet,Air conditioning,Kitchen,Heating,Washer,Essentials,Hangers,Hair dryer,translation missing: en.hosting_amenity_50                                                                                                                                                                            |  NA                                                                                                                                                                                                                                                                                                                       |  49                                                                                                                                                                                                                                                                                                                       |  95                                                                                                                                                                                                                                                                                                                       |       NA                                                                                                                                                                                                                                                                                                                  |\n",
       "| 21 | 28013                                                                                                                                                                                                                                                                                                                     | Sol                                                                                                                                                                                                                                                                                                                       | Apartment                                                                                                                                                                                                                                                                                                                 | Entire home/apt                                                                                                                                                                                                                                                                                                           | 4                                                                                                                                                                                                                                                                                                                         | 1                                                                                                                                                                                                                                                                                                                         | 1                                                                                                                                                                                                                                                                                                                         | 2                                                                                                                                                                                                                                                                                                                         | Real Bed                                                                                                                                                                                                                                                                                                                  | TV,Wireless Internet,Kitchen,Pets allowed,Elevator in building,Heating,Family/kid friendly,Washer,Essentials,Shampoo,Hangers,Hair dryer,Laptop friendly workspace                                                                                                                                                         |  NA                                                                                                                                                                                                                                                                                                                       |  70                                                                                                                                                                                                                                                                                                                       |  88                                                                                                                                                                                                                                                                                                                       |       NA                                                                                                                                                                                                                                                                                                                  |\n",
       "\n"
      ],
      "text/plain": [
       "   CodigoPostal Barrio TipoPropiedad TipoAlquiler    MaxOcupantes NumBanyos\n",
       "15 28013        Sol    Apartment     Entire home/apt 4            1        \n",
       "16 28013        Sol    Condominium   Entire home/apt 6            1        \n",
       "17 28013        Sol    Apartment     Entire home/apt 4            1        \n",
       "18 28012        Sol    Apartment     Entire home/apt 6            1        \n",
       "19 28013        Sol    Apartment     Entire home/apt 4            1        \n",
       "21 28013        Sol    Apartment     Entire home/apt 4            1        \n",
       "   NumDormitorios NumCamas TipoCama\n",
       "15 1              1        Real Bed\n",
       "16 2              3        Real Bed\n",
       "17 1              2        Real Bed\n",
       "18 2              2        Real Bed\n",
       "19 1              2        Real Bed\n",
       "21 1              2        Real Bed\n",
       "   Comodidades                                                                                                                                                                                                                                                                                                              \n",
       "15 TV,Wireless Internet,Air conditioning,Kitchen,Doorman,Elevator in building,Buzzer/wireless intercom,Heating,Family/kid friendly,Suitable for events,Washer,Essentials,Hangers,Hair dryer,Iron                                                                                                                            \n",
       "16 TV,Wireless Internet,Air conditioning,Kitchen,Doorman,Elevator in building,Buzzer/wireless intercom,Heating,Family/kid friendly,Washer,Dryer,Essentials,Shampoo,Hangers,Hair dryer,Iron                                                                                                                                  \n",
       "17 TV,Internet,Wireless Internet,Air conditioning,Kitchen,Doorman,Elevator in building,Buzzer/wireless intercom,Heating,Family/kid friendly,Washer,Smoke detector,Carbon monoxide detector,First aid kit,Safety card,Fire extinguisher,Essentials,Shampoo,24-hour check-in,Hangers,Hair dryer,Iron,Laptop friendly workspace\n",
       "18 TV,Internet,Wireless Internet,Air conditioning,Kitchen,Smoking allowed,Elevator in building,Buzzer/wireless intercom,Heating,Family/kid friendly,Washer,Dryer,Essentials,Shampoo,Hangers,Hair dryer,Iron,Laptop friendly workspace                                                                                       \n",
       "19 TV,Internet,Wireless Internet,Air conditioning,Kitchen,Heating,Washer,Essentials,Hangers,Hair dryer,translation missing: en.hosting_amenity_50                                                                                                                                                                           \n",
       "21 TV,Wireless Internet,Kitchen,Pets allowed,Elevator in building,Heating,Family/kid friendly,Washer,Essentials,Shampoo,Hangers,Hair dryer,Laptop friendly workspace                                                                                                                                                        \n",
       "   PiesCuadrados Precio Puntuacion MetrosCuadrados\n",
       "15 646            75     91        60.01534       \n",
       "16  NA           130    100              NA       \n",
       "17  NA           100     97              NA       \n",
       "18  NA           160     95              NA       \n",
       "19  NA            49     95              NA       \n",
       "21  NA            70     88              NA       "
      ]
     },
     "metadata": {},
     "output_type": "display_data"
    }
   ],
   "source": [
    "barrio_sol <- subset(airbnb_entire, Barrio == \"Sol\")\n",
    "head(barrio_sol)\n",
    "model <- lm(Precio ~ MetrosCuadrados + MaxOcupantes + NumDormitorios + NumBanyos, data = barrio_sol)"
   ]
  },
  {
   "cell_type": "code",
   "execution_count": 32,
   "metadata": {},
   "outputs": [
    {
     "data": {
      "text/plain": [
       "\n",
       "Call:\n",
       "lm(formula = Precio ~ MetrosCuadrados + MaxOcupantes + NumDormitorios + \n",
       "    NumBanyos, data = barrio_sol)\n",
       "\n",
       "Residuals:\n",
       "    Min      1Q  Median      3Q     Max \n",
       "-67.852 -15.599  -4.021  10.042 108.406 \n",
       "\n",
       "Coefficients:\n",
       "                Estimate Std. Error t value Pr(>|t|)    \n",
       "(Intercept)     42.28673   10.25650   4.123 0.000127 ***\n",
       "MetrosCuadrados  0.29900    0.09997   2.991 0.004155 ** \n",
       "MaxOcupantes    -2.85045    2.60279  -1.095 0.278223    \n",
       "NumDormitorios  22.75344    6.55828   3.469 0.001022 ** \n",
       "NumBanyos       15.70888   10.15721   1.547 0.127701    \n",
       "---\n",
       "Signif. codes:  0 '***' 0.001 '**' 0.01 '*' 0.05 '.' 0.1 ' ' 1\n",
       "\n",
       "Residual standard error: 32.42 on 55 degrees of freedom\n",
       "  (641 observations deleted due to missingness)\n",
       "Multiple R-squared:  0.6108,\tAdjusted R-squared:  0.5825 \n",
       "F-statistic: 21.58 on 4 and 55 DF,  p-value: 9.534e-11\n"
      ]
     },
     "metadata": {},
     "output_type": "display_data"
    }
   ],
   "source": [
    "summary(model)"
   ]
  },
  {
   "cell_type": "markdown",
   "metadata": {},
   "source": [
    "Primero calculamos la correlación para ver como se relacionan estas variables entre sí."
   ]
  },
  {
   "cell_type": "code",
   "execution_count": 34,
   "metadata": {},
   "outputs": [
    {
     "data": {
      "text/html": [
       "<table>\n",
       "<thead><tr><th></th><th scope=col>Precio</th><th scope=col>MetrosCuadrados</th><th scope=col>MaxOcupantes</th><th scope=col>NumDormitorios</th><th scope=col>NumBanyos</th></tr></thead>\n",
       "<tbody>\n",
       "\t<tr><th scope=row>Precio</th><td>1.0000000</td><td>0.6381754</td><td>0.5269961</td><td>0.7160551</td><td>0.5975571</td></tr>\n",
       "\t<tr><th scope=row>MetrosCuadrados</th><td>0.6381754</td><td>1.0000000</td><td>0.4286233</td><td>0.5684521</td><td>0.4820549</td></tr>\n",
       "\t<tr><th scope=row>MaxOcupantes</th><td>0.5269961</td><td>0.4286233</td><td>1.0000000</td><td>0.7853809</td><td>0.7017290</td></tr>\n",
       "\t<tr><th scope=row>NumDormitorios</th><td>0.7160551</td><td>0.5684521</td><td>0.7853809</td><td>1.0000000</td><td>0.6873719</td></tr>\n",
       "\t<tr><th scope=row>NumBanyos</th><td>0.5975571</td><td>0.4820549</td><td>0.7017290</td><td>0.6873719</td><td>1.0000000</td></tr>\n",
       "</tbody>\n",
       "</table>\n"
      ],
      "text/latex": [
       "\\begin{tabular}{r|lllll}\n",
       "  & Precio & MetrosCuadrados & MaxOcupantes & NumDormitorios & NumBanyos\\\\\n",
       "\\hline\n",
       "\tPrecio & 1.0000000 & 0.6381754 & 0.5269961 & 0.7160551 & 0.5975571\\\\\n",
       "\tMetrosCuadrados & 0.6381754 & 1.0000000 & 0.4286233 & 0.5684521 & 0.4820549\\\\\n",
       "\tMaxOcupantes & 0.5269961 & 0.4286233 & 1.0000000 & 0.7853809 & 0.7017290\\\\\n",
       "\tNumDormitorios & 0.7160551 & 0.5684521 & 0.7853809 & 1.0000000 & 0.6873719\\\\\n",
       "\tNumBanyos & 0.5975571 & 0.4820549 & 0.7017290 & 0.6873719 & 1.0000000\\\\\n",
       "\\end{tabular}\n"
      ],
      "text/markdown": [
       "\n",
       "| <!--/--> | Precio | MetrosCuadrados | MaxOcupantes | NumDormitorios | NumBanyos |\n",
       "|---|---|---|---|---|---|\n",
       "| Precio | 1.0000000 | 0.6381754 | 0.5269961 | 0.7160551 | 0.5975571 |\n",
       "| MetrosCuadrados | 0.6381754 | 1.0000000 | 0.4286233 | 0.5684521 | 0.4820549 |\n",
       "| MaxOcupantes | 0.5269961 | 0.4286233 | 1.0000000 | 0.7853809 | 0.7017290 |\n",
       "| NumDormitorios | 0.7160551 | 0.5684521 | 0.7853809 | 1.0000000 | 0.6873719 |\n",
       "| NumBanyos | 0.5975571 | 0.4820549 | 0.7017290 | 0.6873719 | 1.0000000 |\n",
       "\n"
      ],
      "text/plain": [
       "                Precio    MetrosCuadrados MaxOcupantes NumDormitorios NumBanyos\n",
       "Precio          1.0000000 0.6381754       0.5269961    0.7160551      0.5975571\n",
       "MetrosCuadrados 0.6381754 1.0000000       0.4286233    0.5684521      0.4820549\n",
       "MaxOcupantes    0.5269961 0.4286233       1.0000000    0.7853809      0.7017290\n",
       "NumDormitorios  0.7160551 0.5684521       0.7853809    1.0000000      0.6873719\n",
       "NumBanyos       0.5975571 0.4820549       0.7017290    0.6873719      1.0000000"
      ]
     },
     "metadata": {},
     "output_type": "display_data"
    }
   ],
   "source": [
    "cor(barrio_sol[c('Precio', 'MetrosCuadrados', 'MaxOcupantes', 'NumDormitorios', 'NumBanyos')],\n",
    "   use = \"na.or.complete\")"
   ]
  },
  {
   "cell_type": "markdown",
   "metadata": {},
   "source": [
    "Se observa que la correlación entre el número de dormitorios y los metros cuadrados es sorprendentemente baja.\n",
    "¿Son de fiar esos números?\n",
    "\n",
    "Mediante un histograma o curvas de densidad podemos descartar números que notienen sentido en el dataframe barrio_sol,\n",
    "para tener una matriz de correlación que tenga mayor sentido.\n"
   ]
  },
  {
   "cell_type": "code",
   "execution_count": 33,
   "metadata": {},
   "outputs": [
    {
     "data": {
      "image/png": "[encoded data removed]",
      "text/plain": [
       "Plot with title \"Histogram of barrio_sol$MetrosCuadrados\""
      ]
     },
     "metadata": {},
     "output_type": "display_data"
    },
    {
     "data": {
      "image/png": "[encoded data removed]",
      "text/plain": [
       "Plot with title \"Histogram of barrio_sol$NumDormitorios\""
      ]
     },
     "metadata": {},
     "output_type": "display_data"
    }
   ],
   "source": [
    "hist(barrio_sol$MetrosCuadrados, breaks = 20)\n",
    "hist(barrio_sol$NumDormitorios, breaks = 10)"
   ]
  },
  {
   "cell_type": "code",
   "execution_count": 34,
   "metadata": {},
   "outputs": [],
   "source": [
    "barrio_sol$MetrosCuadrados[barrio_sol$MetrosCuadrados < 20] <- NA\n",
    "barrio_sol$NumDormitorios[barrio_sol$NumDormitorios == 0] <- NA"
   ]
  },
  {
   "cell_type": "markdown",
   "metadata": {},
   "source": [
    "Una vez que hayamos filtrado los datos correspondientes calcular el valor o la combinación de valores que mejor nos permite obtener el precio de un inmueble."
   ]
  },
  {
   "cell_type": "code",
   "execution_count": 35,
   "metadata": {},
   "outputs": [
    {
     "data": {
      "text/html": [
       "<table>\n",
       "<thead><tr><th></th><th scope=col>Precio</th><th scope=col>MetrosCuadrados</th><th scope=col>MaxOcupantes</th><th scope=col>NumDormitorios</th><th scope=col>NumBanyos</th></tr></thead>\n",
       "<tbody>\n",
       "\t<tr><th scope=row>Precio</th><td>1.0000000</td><td>0.7436684</td><td>0.7022165</td><td>0.8540959</td><td>0.6401045</td></tr>\n",
       "\t<tr><th scope=row>MetrosCuadrados</th><td>0.7436684</td><td>1.0000000</td><td>0.6656265</td><td>0.8152787</td><td>0.5812796</td></tr>\n",
       "\t<tr><th scope=row>MaxOcupantes</th><td>0.7022165</td><td>0.6656265</td><td>1.0000000</td><td>0.7751168</td><td>0.8595211</td></tr>\n",
       "\t<tr><th scope=row>NumDormitorios</th><td>0.8540959</td><td>0.8152787</td><td>0.7751168</td><td>1.0000000</td><td>0.7260224</td></tr>\n",
       "\t<tr><th scope=row>NumBanyos</th><td>0.6401045</td><td>0.5812796</td><td>0.8595211</td><td>0.7260224</td><td>1.0000000</td></tr>\n",
       "</tbody>\n",
       "</table>\n"
      ],
      "text/latex": [
       "\\begin{tabular}{r|lllll}\n",
       "  & Precio & MetrosCuadrados & MaxOcupantes & NumDormitorios & NumBanyos\\\\\n",
       "\\hline\n",
       "\tPrecio & 1.0000000 & 0.7436684 & 0.7022165 & 0.8540959 & 0.6401045\\\\\n",
       "\tMetrosCuadrados & 0.7436684 & 1.0000000 & 0.6656265 & 0.8152787 & 0.5812796\\\\\n",
       "\tMaxOcupantes & 0.7022165 & 0.6656265 & 1.0000000 & 0.7751168 & 0.8595211\\\\\n",
       "\tNumDormitorios & 0.8540959 & 0.8152787 & 0.7751168 & 1.0000000 & 0.7260224\\\\\n",
       "\tNumBanyos & 0.6401045 & 0.5812796 & 0.8595211 & 0.7260224 & 1.0000000\\\\\n",
       "\\end{tabular}\n"
      ],
      "text/markdown": [
       "\n",
       "| <!--/--> | Precio | MetrosCuadrados | MaxOcupantes | NumDormitorios | NumBanyos |\n",
       "|---|---|---|---|---|---|\n",
       "| Precio | 1.0000000 | 0.7436684 | 0.7022165 | 0.8540959 | 0.6401045 |\n",
       "| MetrosCuadrados | 0.7436684 | 1.0000000 | 0.6656265 | 0.8152787 | 0.5812796 |\n",
       "| MaxOcupantes | 0.7022165 | 0.6656265 | 1.0000000 | 0.7751168 | 0.8595211 |\n",
       "| NumDormitorios | 0.8540959 | 0.8152787 | 0.7751168 | 1.0000000 | 0.7260224 |\n",
       "| NumBanyos | 0.6401045 | 0.5812796 | 0.8595211 | 0.7260224 | 1.0000000 |\n",
       "\n"
      ],
      "text/plain": [
       "                Precio    MetrosCuadrados MaxOcupantes NumDormitorios NumBanyos\n",
       "Precio          1.0000000 0.7436684       0.7022165    0.8540959      0.6401045\n",
       "MetrosCuadrados 0.7436684 1.0000000       0.6656265    0.8152787      0.5812796\n",
       "MaxOcupantes    0.7022165 0.6656265       1.0000000    0.7751168      0.8595211\n",
       "NumDormitorios  0.8540959 0.8152787       0.7751168    1.0000000      0.7260224\n",
       "NumBanyos       0.6401045 0.5812796       0.8595211    0.7260224      1.0000000"
      ]
     },
     "metadata": {},
     "output_type": "display_data"
    }
   ],
   "source": [
    "cor(barrio_sol[c('Precio', 'MetrosCuadrados', 'MaxOcupantes', 'NumDormitorios', 'NumBanyos')],\n",
    "   use = \"na.or.complete\")"
   ]
  },
  {
   "cell_type": "code",
   "execution_count": 86,
   "metadata": {},
   "outputs": [
    {
     "data": {
      "text/plain": [
       "\n",
       "Call:\n",
       "lm(formula = Precio ~ MetrosCuadrados + MaxOcupantes + NumDormitorios + \n",
       "    NumBanyos, data = barrio_sol, na.action = na.omit)\n",
       "\n",
       "Residuals:\n",
       "    Min      1Q  Median      3Q     Max \n",
       "-85.831 -15.395  -2.977  20.326  60.741 \n",
       "\n",
       "Coefficients:\n",
       "                Estimate Std. Error t value Pr(>|t|)   \n",
       "(Intercept)      26.6525    15.7439   1.693  0.10342   \n",
       "MetrosCuadrados   0.1707     0.2391   0.714  0.48227   \n",
       "MaxOcupantes      2.3270     5.0557   0.460  0.64946   \n",
       "NumDormitorios   33.3934    10.7180   3.116  0.00471 **\n",
       "NumBanyos        -1.6202    16.3327  -0.099  0.92180   \n",
       "---\n",
       "Signif. codes:  0 '***' 0.001 '**' 0.01 '*' 0.05 '.' 0.1 ' ' 1\n",
       "\n",
       "Residual standard error: 33.8 on 24 degrees of freedom\n",
       "  (672 observations deleted due to missingness)\n",
       "Multiple R-squared:  0.7394,\tAdjusted R-squared:  0.696 \n",
       "F-statistic: 17.03 on 4 and 24 DF,  p-value: 9.667e-07\n"
      ]
     },
     "metadata": {},
     "output_type": "display_data"
    }
   ],
   "source": [
    "model <- lm(Precio ~ MetrosCuadrados + MaxOcupantes + NumDormitorios + NumBanyos, data = barrio_sol,\n",
    "            na.action = na.omit)\n",
    "summary(model)"
   ]
  },
  {
   "cell_type": "markdown",
   "metadata": {},
   "source": [
    "Esto ocurre porque las variables están correlacionadas, ya que, por ejemplo, a mayor número de dormitorios, mayor úmero de metros cuadrados.\n",
    "\n",
    "Sin embargo, las variables de una regresión no deben estar relacionadas."
   ]
  },
  {
   "cell_type": "code",
   "execution_count": 84,
   "metadata": {},
   "outputs": [
    {
     "data": {
      "text/plain": [
       "\n",
       "Call:\n",
       "lm(formula = Precio ~ NumDormitorios, data = barrio_sol, na.action = na.omit)\n",
       "\n",
       "Residuals:\n",
       "     Min       1Q   Median       3Q      Max \n",
       "-250.482  -20.489   -4.489   15.511  253.513 \n",
       "\n",
       "Coefficients:\n",
       "               Estimate Std. Error t value Pr(>|t|)    \n",
       "(Intercept)      40.490      3.378   11.99   <2e-16 ***\n",
       "NumDormitorios   38.999      1.790   21.78   <2e-16 ***\n",
       "---\n",
       "Signif. codes:  0 '***' 0.001 '**' 0.01 '*' 0.05 '.' 0.1 ' ' 1\n",
       "\n",
       "Residual standard error: 39.75 on 608 degrees of freedom\n",
       "  (91 observations deleted due to missingness)\n",
       "Multiple R-squared:  0.4384,\tAdjusted R-squared:  0.4374 \n",
       "F-statistic: 474.6 on 1 and 608 DF,  p-value: < 2.2e-16\n"
      ]
     },
     "metadata": {},
     "output_type": "display_data"
    }
   ],
   "source": [
    "model <- lm(Precio ~ NumDormitorios, data = barrio_sol, na.action = na.omit)\n",
    "summary(model)"
   ]
  },
  {
   "cell_type": "markdown",
   "metadata": {},
   "source": [
    "¿Que variable es más fiable para conocer el precio de un inmueble, el número de habitaciones o los metros cuadrados?"
   ]
  },
  {
   "cell_type": "markdown",
   "metadata": {},
   "source": [
    "El número de habitaciones"
   ]
  },
  {
   "cell_type": "markdown",
   "metadata": {},
   "source": [
    "Responde con su correspondiente margen de error del 95%, ¿cuantos euros incrementa el precio del alquiler por cada metro cuadrado extra del piso?"
   ]
  },
  {
   "cell_type": "code",
   "execution_count": 37,
   "metadata": {},
   "outputs": [
    {
     "data": {
      "text/plain": [
       "\n",
       "Call:\n",
       "lm(formula = Precio ~ MetrosCuadrados, data = barrio_sol, na.action = na.omit)\n",
       "\n",
       "Residuals:\n",
       "    Min      1Q  Median      3Q     Max \n",
       "-65.388 -21.792  -0.115  10.642 121.693 \n",
       "\n",
       "Coefficients:\n",
       "                Estimate Std. Error t value Pr(>|t|)    \n",
       "(Intercept)      29.5861    14.1142   2.096   0.0443 *  \n",
       "MetrosCuadrados   0.9912     0.1520   6.521 2.81e-07 ***\n",
       "---\n",
       "Signif. codes:  0 '***' 0.001 '**' 0.01 '*' 0.05 '.' 0.1 ' ' 1\n",
       "\n",
       "Residual standard error: 39.83 on 31 degrees of freedom\n",
       "  (668 observations deleted due to missingness)\n",
       "Multiple R-squared:  0.5784,\tAdjusted R-squared:  0.5648 \n",
       "F-statistic: 42.53 on 1 and 31 DF,  p-value: 2.809e-07\n"
      ]
     },
     "metadata": {},
     "output_type": "display_data"
    }
   ],
   "source": [
    "model <- lm(Precio ~ MetrosCuadrados, data = barrio_sol, na.action = na.omit)\n",
    "summary(model)"
   ]
  },
  {
   "cell_type": "markdown",
   "metadata": {},
   "source": [
    "Aumenta 0.9912€"
   ]
  },
  {
   "cell_type": "markdown",
   "metadata": {},
   "source": [
    "Responde con su correspondiente margen de error del 95%, ¿cuantos euros incrementa el precio del alquiler por cada habitación?"
   ]
  },
  {
   "cell_type": "code",
   "execution_count": 38,
   "metadata": {},
   "outputs": [
    {
     "data": {
      "text/plain": [
       "\n",
       "Call:\n",
       "lm(formula = Precio ~ NumDormitorios, data = barrio_sol, na.action = na.omit)\n",
       "\n",
       "Residuals:\n",
       "     Min       1Q   Median       3Q      Max \n",
       "-250.482  -20.489   -4.489   15.511  253.513 \n",
       "\n",
       "Coefficients:\n",
       "               Estimate Std. Error t value Pr(>|t|)    \n",
       "(Intercept)      40.490      3.378   11.99   <2e-16 ***\n",
       "NumDormitorios   38.999      1.790   21.78   <2e-16 ***\n",
       "---\n",
       "Signif. codes:  0 '***' 0.001 '**' 0.01 '*' 0.05 '.' 0.1 ' ' 1\n",
       "\n",
       "Residual standard error: 39.75 on 608 degrees of freedom\n",
       "  (91 observations deleted due to missingness)\n",
       "Multiple R-squared:  0.4384,\tAdjusted R-squared:  0.4374 \n",
       "F-statistic: 474.6 on 1 and 608 DF,  p-value: < 2.2e-16\n"
      ]
     },
     "metadata": {},
     "output_type": "display_data"
    }
   ],
   "source": [
    "model <- lm(Precio ~ NumDormitorios, data = barrio_sol, na.action = na.omit)\n",
    "summary(model)"
   ]
  },
  {
   "cell_type": "markdown",
   "metadata": {},
   "source": [
    "Aumenta 38.999€"
   ]
  },
  {
   "cell_type": "markdown",
   "metadata": {},
   "source": [
    "¿Cual es la probabilidad de encontrar, en el barrio de Sol, un apartamento en alquiler con 3 dormitorios?\n",
    "¿Cual es el margen de error de esa probabilidad?"
   ]
  },
  {
   "cell_type": "code",
   "execution_count": 39,
   "metadata": {},
   "outputs": [
    {
     "name": "stdout",
     "output_type": "stream",
     "text": [
      "[1] \"La probabilidad de encontrar un apartamente con 3 dormitorios en Sol es 0.29%\"\n"
     ]
    }
   ],
   "source": [
    "p = dim(na.omit(barrio_sol[barrio_sol$NumDormitorios == 3,]))[1] / dim(barrio_sol)[1] * 100\n",
    "print(paste0(\"La probabilidad de encontrar un apartamente con 3 dormitorios en Sol es \", round(p, 2), \"%\"))"
   ]
  },
  {
   "cell_type": "code",
   "execution_count": 40,
   "metadata": {},
   "outputs": [],
   "source": [
    "n <- dim(barrio_sol)[1]\n",
    "ns <- dim(na.omit(barrio_sol[barrio_sol$NumDormitorios == 3,]))[1]\n",
    "pval <- 0.05"
   ]
  },
  {
   "cell_type": "code",
   "execution_count": 41,
   "metadata": {},
   "outputs": [
    {
     "data": {
      "text/plain": [
       "\n",
       "\t1-sample proportions test with continuity correction\n",
       "\n",
       "data:  ns out of n, null probability 0.5\n",
       "X-squared = 691.04, df = 1, p-value < 2.2e-16\n",
       "alternative hypothesis: true p is not equal to 0.5\n",
       "95 percent confidence interval:\n",
       " 0.0004943298 0.0114379839\n",
       "sample estimates:\n",
       "          p \n",
       "0.002853067 \n"
      ]
     },
     "metadata": {},
     "output_type": "display_data"
    }
   ],
   "source": [
    "prop.test(ns, n , conf.level = 1 - pval)"
   ]
  },
  {
   "cell_type": "markdown",
   "metadata": {},
   "source": [
    "El margen de error de esa probabilidad está entre 0.0004943298 y 0.0114379839"
   ]
  },
  {
   "cell_type": "code",
   "execution_count": null,
   "metadata": {},
   "outputs": [],
   "source": []
  }
 ],
 "metadata": {
  "kernelspec": {
   "display_name": "R",
   "language": "R",
   "name": "ir"
  },
  "language_info": {
   "codemirror_mode": "r",
   "file_extension": ".r",
   "mimetype": "text/x-r-source",
   "name": "R",
   "pygments_lexer": "r",
   "version": "3.6.1"
  }
 },
 "nbformat": 4,
 "nbformat_minor": 2
}

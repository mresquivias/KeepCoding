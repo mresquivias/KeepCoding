{
 "cells": [
  {
   "cell_type": "code",
   "execution_count": 39,
   "metadata": {},
   "outputs": [],
   "source": [
    "import pandas as pd\n",
    "import numpy as np\n",
    "import re\n",
    "import nltk\n",
    "from nltk import TreebankWordTokenizer\n",
    "from nltk.corpus import stopwords\n",
    "from nltk.stem import WordNetLemmatizer"
   ]
  },
  {
   "cell_type": "code",
   "execution_count": 40,
   "metadata": {},
   "outputs": [],
   "source": [
    "sw_list = stopwords.words('english')\n",
    "lemmatizer = WordNetLemmatizer()"
   ]
  },
  {
   "cell_type": "code",
   "execution_count": 42,
   "metadata": {},
   "outputs": [],
   "source": [
    "for i in ('not', 'no', 'nor'):\n",
    "    sw_list.remove(i)"
   ]
  },
  {
   "cell_type": "markdown",
   "metadata": {},
   "source": [
    "Se ha eliminado de la lista de stop words, las palabras 'not', 'nor' y 'no' ya que pueden aportar mucho significado a un modelo de Sentyment Analysis:\n",
    "No es lo mismo decir:\n",
    "* No me gusta\n",
    "* Me gusta"
   ]
  },
  {
   "cell_type": "code",
   "execution_count": 43,
   "metadata": {},
   "outputs": [],
   "source": [
    "df = pd.read_json('Sports_and_Outdoors_5.json', lines = True)"
   ]
  },
  {
   "cell_type": "code",
   "execution_count": 44,
   "metadata": {},
   "outputs": [],
   "source": [
    "def lower_words(x):\n",
    "    \"\"\"\n",
    "    To lowercase all words\n",
    "    \"\"\"\n",
    "    x = x.lower()\n",
    "    \n",
    "    return x"
   ]
  },
  {
   "cell_type": "code",
   "execution_count": 45,
   "metadata": {},
   "outputs": [],
   "source": [
    "def remove_punctuation(x):\n",
    "    \"\"\"\n",
    "    It removes punctuation marks\n",
    "    \"\"\"\n",
    "    x = \" \".join(re.findall('[\\w]+',x))\n",
    "    \n",
    "    return x"
   ]
  },
  {
   "cell_type": "code",
   "execution_count": 46,
   "metadata": {},
   "outputs": [],
   "source": [
    "def remove_stopWords(x, stop_words):\n",
    "    \"\"\"\n",
    "    It removes the stop words\n",
    "    \"\"\"\n",
    "    x = ' '.join(word for word in x.split() if word not in stop_words)\n",
    "    \n",
    "    return x"
   ]
  },
  {
   "cell_type": "code",
   "execution_count": 47,
   "metadata": {},
   "outputs": [],
   "source": [
    "def lemmmatization(x):\n",
    "    \"\"\"\n",
    "    Lemmatize words to reduce the cardinality of the vocabulary\n",
    "    \"\"\"\n",
    "    x = ' '.join(lemmatizer.lemmatize(word) for word in x.split())\n",
    "    \n",
    "    return x"
   ]
  },
  {
   "cell_type": "code",
   "execution_count": 48,
   "metadata": {},
   "outputs": [],
   "source": [
    "def preprocessing(df, stop_words, lemmatize = False):\n",
    "    \"\"\"\n",
    "    Function to preproces text\n",
    "    Input:\n",
    "    - df: pandas series to preprocess\n",
    "    - stop_words: list of stop words\n",
    "    \n",
    "    Output:\n",
    "    - df: pandas series preprocessed\n",
    "    \"\"\"\n",
    "    df = df.apply(lambda x : lower_words(x))\n",
    "    df = df.apply(lambda x : remove_punctuation(x))\n",
    "    df = df.apply(lambda x : remove_stopWords(x, stop_words))\n",
    "    \n",
    "    if lemmatize:\n",
    "        df = df.apply(lambda x: lemmatization(x))\n",
    "    \n",
    "    return df"
   ]
  },
  {
   "cell_type": "code",
   "execution_count": 49,
   "metadata": {
    "scrolled": true
   },
   "outputs": [],
   "source": [
    "df_preprocessed = preprocessing(df['reviewText'], stop_words = sw_list)"
   ]
  },
  {
   "cell_type": "code",
   "execution_count": 50,
   "metadata": {},
   "outputs": [],
   "source": [
    "df['text_processed'] = df_preprocessed"
   ]
  },
  {
   "cell_type": "code",
   "execution_count": 51,
   "metadata": {
    "scrolled": true
   },
   "outputs": [
    {
     "data": {
      "text/plain": [
       "0    came time veru happy haved used already makes ...\n",
       "1    factory glock tool using glock 26 27 17 since ...\n",
       "2    3 32 punch would like one glock bag okay butt ...\n",
       "3    works no better 3 32 punch would find hardware...\n",
       "4    purchased thinking maybe need special tool eas...\n",
       "Name: reviewText, dtype: object"
      ]
     },
     "execution_count": 51,
     "metadata": {},
     "output_type": "execute_result"
    }
   ],
   "source": [
    "df_preprocessed.head()"
   ]
  },
  {
   "cell_type": "code",
   "execution_count": 52,
   "metadata": {},
   "outputs": [
    {
     "data": {
      "text/html": [
       "<div>\n",
       "<style scoped>\n",
       "    .dataframe tbody tr th:only-of-type {\n",
       "        vertical-align: middle;\n",
       "    }\n",
       "\n",
       "    .dataframe tbody tr th {\n",
       "        vertical-align: top;\n",
       "    }\n",
       "\n",
       "    .dataframe thead th {\n",
       "        text-align: right;\n",
       "    }\n",
       "</style>\n",
       "<table border=\"1\" class=\"dataframe\">\n",
       "  <thead>\n",
       "    <tr style=\"text-align: right;\">\n",
       "      <th></th>\n",
       "      <th>asin</th>\n",
       "      <th>helpful</th>\n",
       "      <th>overall</th>\n",
       "      <th>reviewText</th>\n",
       "      <th>reviewTime</th>\n",
       "      <th>reviewerID</th>\n",
       "      <th>reviewerName</th>\n",
       "      <th>summary</th>\n",
       "      <th>unixReviewTime</th>\n",
       "      <th>text_processed</th>\n",
       "    </tr>\n",
       "  </thead>\n",
       "  <tbody>\n",
       "    <tr>\n",
       "      <th>0</th>\n",
       "      <td>1881509818</td>\n",
       "      <td>[0, 0]</td>\n",
       "      <td>5</td>\n",
       "      <td>This came in on time and I am veru happy with ...</td>\n",
       "      <td>01 26, 2014</td>\n",
       "      <td>AIXZKN4ACSKI</td>\n",
       "      <td>David Briner</td>\n",
       "      <td>Woks very good</td>\n",
       "      <td>1390694400</td>\n",
       "      <td>came time veru happy haved used already makes ...</td>\n",
       "    </tr>\n",
       "    <tr>\n",
       "      <th>1</th>\n",
       "      <td>1881509818</td>\n",
       "      <td>[1, 1]</td>\n",
       "      <td>5</td>\n",
       "      <td>I had a factory Glock tool that I was using fo...</td>\n",
       "      <td>02 2, 2012</td>\n",
       "      <td>A1L5P841VIO02V</td>\n",
       "      <td>Jason A. Kramer</td>\n",
       "      <td>Works as well as the factory tool</td>\n",
       "      <td>1328140800</td>\n",
       "      <td>factory glock tool using glock 26 27 17 since ...</td>\n",
       "    </tr>\n",
       "    <tr>\n",
       "      <th>2</th>\n",
       "      <td>1881509818</td>\n",
       "      <td>[2, 2]</td>\n",
       "      <td>4</td>\n",
       "      <td>If you don't have a 3/32 punch or would like t...</td>\n",
       "      <td>02 28, 2012</td>\n",
       "      <td>AB2W04NI4OEAD</td>\n",
       "      <td>J. Fernald</td>\n",
       "      <td>It's a punch, that's all.</td>\n",
       "      <td>1330387200</td>\n",
       "      <td>3 32 punch would like one glock bag okay butt ...</td>\n",
       "    </tr>\n",
       "    <tr>\n",
       "      <th>3</th>\n",
       "      <td>1881509818</td>\n",
       "      <td>[0, 0]</td>\n",
       "      <td>4</td>\n",
       "      <td>This works no better than any 3/32 punch you w...</td>\n",
       "      <td>02 5, 2012</td>\n",
       "      <td>A148SVSWKTJKU6</td>\n",
       "      <td>Jusitn A. Watts \"Maverick9614\"</td>\n",
       "      <td>It's a punch with a Glock logo.</td>\n",
       "      <td>1328400000</td>\n",
       "      <td>works no better 3 32 punch would find hardware...</td>\n",
       "    </tr>\n",
       "    <tr>\n",
       "      <th>4</th>\n",
       "      <td>1881509818</td>\n",
       "      <td>[0, 0]</td>\n",
       "      <td>4</td>\n",
       "      <td>I purchased this thinking maybe I need a speci...</td>\n",
       "      <td>04 23, 2013</td>\n",
       "      <td>AAAWJ6LW9WMOO</td>\n",
       "      <td>Material Man</td>\n",
       "      <td>Ok,tool does what a regular punch does.</td>\n",
       "      <td>1366675200</td>\n",
       "      <td>purchased thinking maybe need special tool eas...</td>\n",
       "    </tr>\n",
       "  </tbody>\n",
       "</table>\n",
       "</div>"
      ],
      "text/plain": [
       "         asin helpful  overall  \\\n",
       "0  1881509818  [0, 0]        5   \n",
       "1  1881509818  [1, 1]        5   \n",
       "2  1881509818  [2, 2]        4   \n",
       "3  1881509818  [0, 0]        4   \n",
       "4  1881509818  [0, 0]        4   \n",
       "\n",
       "                                          reviewText   reviewTime  \\\n",
       "0  This came in on time and I am veru happy with ...  01 26, 2014   \n",
       "1  I had a factory Glock tool that I was using fo...   02 2, 2012   \n",
       "2  If you don't have a 3/32 punch or would like t...  02 28, 2012   \n",
       "3  This works no better than any 3/32 punch you w...   02 5, 2012   \n",
       "4  I purchased this thinking maybe I need a speci...  04 23, 2013   \n",
       "\n",
       "       reviewerID                    reviewerName  \\\n",
       "0    AIXZKN4ACSKI                    David Briner   \n",
       "1  A1L5P841VIO02V                 Jason A. Kramer   \n",
       "2   AB2W04NI4OEAD                      J. Fernald   \n",
       "3  A148SVSWKTJKU6  Jusitn A. Watts \"Maverick9614\"   \n",
       "4   AAAWJ6LW9WMOO                    Material Man   \n",
       "\n",
       "                                   summary  unixReviewTime  \\\n",
       "0                           Woks very good      1390694400   \n",
       "1        Works as well as the factory tool      1328140800   \n",
       "2                It's a punch, that's all.      1330387200   \n",
       "3          It's a punch with a Glock logo.      1328400000   \n",
       "4  Ok,tool does what a regular punch does.      1366675200   \n",
       "\n",
       "                                      text_processed  \n",
       "0  came time veru happy haved used already makes ...  \n",
       "1  factory glock tool using glock 26 27 17 since ...  \n",
       "2  3 32 punch would like one glock bag okay butt ...  \n",
       "3  works no better 3 32 punch would find hardware...  \n",
       "4  purchased thinking maybe need special tool eas...  "
      ]
     },
     "execution_count": 52,
     "metadata": {},
     "output_type": "execute_result"
    }
   ],
   "source": [
    "df.head()"
   ]
  },
  {
   "cell_type": "code",
   "execution_count": 53,
   "metadata": {
    "scrolled": true
   },
   "outputs": [],
   "source": [
    "df.to_csv('reviews_preprocessed.csv')"
   ]
  }
 ],
 "metadata": {
  "kernelspec": {
   "display_name": "Python 3",
   "language": "python",
   "name": "python3"
  },
  "language_info": {
   "codemirror_mode": {
    "name": "ipython",
    "version": 3
   },
   "file_extension": ".py",
   "mimetype": "text/x-python",
   "name": "python",
   "nbconvert_exporter": "python",
   "pygments_lexer": "ipython3",
   "version": "3.6.5"
  }
 },
 "nbformat": 4,
 "nbformat_minor": 2
}
